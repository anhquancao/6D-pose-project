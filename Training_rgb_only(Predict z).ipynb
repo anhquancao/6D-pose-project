{
 "cells": [
  {
   "cell_type": "code",
   "execution_count": 37,
   "metadata": {},
   "outputs": [
    {
     "name": "stdout",
     "output_type": "stream",
     "text": [
      "The autoreload extension is already loaded. To reload it, use:\n",
      "  %reload_ext autoreload\n"
     ]
    }
   ],
   "source": [
    "from lib.network import PoseNetRGBOnly\n",
    "from lib.loss import Loss\n",
    "from lib.utils import setup_logger\n",
    "from datasets.linemod.dataset import PoseDataset as PoseDataset_linemod\n",
    "import torch\n",
    "import os\n",
    "from torch import optim\n",
    "import numpy as np\n",
    "import time\n",
    "from torch.autograd import Variable\n",
    "%load_ext autoreload\n",
    "%autoreload 2\n"
   ]
  },
  {
   "cell_type": "code",
   "execution_count": 25,
   "metadata": {},
   "outputs": [],
   "source": [
    "import warnings\n",
    "warnings.filterwarnings(\"ignore\")"
   ]
  },
  {
   "cell_type": "code",
   "execution_count": 26,
   "metadata": {},
   "outputs": [],
   "source": [
    "num_objects = 5\n",
    "num_points = 500\n",
    "outf = 'trained_models/linemod'\n",
    "log_dir = 'experiments/logs/linemod'\n",
    "repeat_epoch = 20\n",
    "decay_margin = 0.016\n",
    "decay_start = False\n",
    "lr_rate = 0.3\n",
    "w_rate = 0.3"
   ]
  },
  {
   "cell_type": "code",
   "execution_count": 28,
   "metadata": {},
   "outputs": [],
   "source": [
    "estimator = PoseNetRGBOnly(num_points=num_points, num_obj = num_objects)\n",
    "estimator.cuda();\n",
    "lr = 0.0001\n",
    "optimizer = optim.Adam(estimator.parameters(), lr=lr)"
   ]
  },
  {
   "cell_type": "code",
   "execution_count": 29,
   "metadata": {},
   "outputs": [
    {
     "data": {
      "text/plain": [
       "<All keys matched successfully>"
      ]
     },
     "execution_count": 29,
     "metadata": {},
     "output_type": "execute_result"
    }
   ],
   "source": [
    "model = 'trained_models/linemod/pose_model_12_0.09392938120923575.pth'\n",
    "estimator.load_state_dict(torch.load(model))"
   ]
  },
  {
   "cell_type": "code",
   "execution_count": 31,
   "metadata": {},
   "outputs": [
    {
     "name": "stdout",
     "output_type": "stream",
     "text": [
      "Object 2 buffer loaded\n",
      "Object 4 buffer loaded\n",
      "Object 5 buffer loaded\n",
      "Object 10 buffer loaded\n",
      "Object 11 buffer loaded\n"
     ]
    }
   ],
   "source": [
    "dataset_root = \"./datasets/linemod/Linemod_preprocessed\"\n",
    "noise_trans = 0.03\n",
    "refine_start = False\n",
    "decay_start = False\n",
    "\n",
    "\n",
    "dataset = PoseDataset_linemod('train', \n",
    "                              num_points, \n",
    "                              True, \n",
    "                              dataset_root, \n",
    "                              noise_trans, \n",
    "                              refine_start)\n",
    "\n",
    "workers = 4\n",
    "dataloader = torch.utils.data.DataLoader(dataset, \n",
    "                                         batch_size=1, \n",
    "                                         shuffle=True, \n",
    "                                         num_workers=workers)"
   ]
  },
  {
   "cell_type": "code",
   "execution_count": 32,
   "metadata": {},
   "outputs": [
    {
     "name": "stdout",
     "output_type": "stream",
     "text": [
      "Object 2 buffer loaded\n",
      "Object 4 buffer loaded\n",
      "Object 5 buffer loaded\n",
      "Object 10 buffer loaded\n",
      "Object 11 buffer loaded\n"
     ]
    }
   ],
   "source": [
    "test_dataset = PoseDataset_linemod('test', \n",
    "                                   num_points, \n",
    "                                   False, \n",
    "                                   dataset_root, \n",
    "                                   0.0, \n",
    "                                   refine_start)\n",
    "testdataloader = torch.utils.data.DataLoader(test_dataset, \n",
    "                                             batch_size=1, \n",
    "                                             shuffle=False, \n",
    "                                             num_workers=workers)"
   ]
  },
  {
   "cell_type": "code",
   "execution_count": 33,
   "metadata": {},
   "outputs": [],
   "source": [
    "sym_list = dataset.get_sym_list()\n",
    "num_points_mesh = dataset.get_num_points_mesh()"
   ]
  },
  {
   "cell_type": "code",
   "execution_count": 34,
   "metadata": {},
   "outputs": [
    {
     "name": "stdout",
     "output_type": "stream",
     "text": [
      ">>>>>>>>----------Dataset loaded!---------<<<<<<<<\n",
      "length of the training set: 914\n",
      "length of the testing set: 515\n",
      "number of sample points on mesh: 500\n",
      "symmetry object list: [3, 4]\n"
     ]
    }
   ],
   "source": [
    "print('>>>>>>>>----------Dataset loaded!---------<<<<<<<<\\nlength of the training set: {0}\\nlength of the testing set: {1}\\nnumber of sample points on mesh: {2}\\nsymmetry object list: {3}'\n",
    "      .format(len(dataset), \n",
    "              len(test_dataset), \n",
    "              num_points_mesh, \n",
    "              sym_list))"
   ]
  },
  {
   "cell_type": "code",
   "execution_count": 38,
   "metadata": {},
   "outputs": [],
   "source": [
    "criterion = Loss(num_points_mesh, sym_list)"
   ]
  },
  {
   "cell_type": "code",
   "execution_count": 46,
   "metadata": {},
   "outputs": [],
   "source": [
    "start_epoch = 9\n",
    "nepoch = 16\n",
    "w = 0.015\n",
    "batch_size = 8"
   ]
  },
  {
   "cell_type": "code",
   "execution_count": 40,
   "metadata": {},
   "outputs": [
    {
     "data": {
      "text/plain": [
       "torch.Size([1, 1, 500])"
      ]
     },
     "execution_count": 40,
     "metadata": {},
     "output_type": "execute_result"
    }
   ],
   "source": [
    "next(iter(dataloader))[1].shape"
   ]
  },
  {
   "cell_type": "code",
   "execution_count": 45,
   "metadata": {},
   "outputs": [],
   "source": [
    "lr *= lr_rate\n",
    "w *= w_rate\n",
    "optimizer = optim.Adam(estimator.parameters(), lr=lr)"
   ]
  },
  {
   "cell_type": "code",
   "execution_count": 47,
   "metadata": {},
   "outputs": [
    {
     "name": "stdout",
     "output_type": "stream",
     "text": [
      "Train time 01h 43m 31s Epoch 15 Batch 275 Frame 2200 Avg_dis:0.0177555350237526\n",
      "Train time 01h 43m 42s Epoch 15 Batch 300 Frame 2400 Avg_dis:0.017905657296068966\n",
      "Train time 01h 43m 54s Epoch 15 Batch 325 Frame 2600 Avg_dis:0.021497412235476077\n",
      "Train time 01h 44m 06s Epoch 15 Batch 350 Frame 2800 Avg_dis:0.024940106726717204\n",
      "Train time 01h 44m 18s Epoch 15 Batch 375 Frame 3000 Avg_dis:0.015354499570094049\n",
      "Train time 01h 44m 29s Epoch 15 Batch 400 Frame 3200 Avg_dis:0.021991423796862364\n",
      "Train time 01h 44m 40s Epoch 15 Batch 425 Frame 3400 Avg_dis:0.023702603532001376\n",
      "Train time 01h 44m 53s Epoch 15 Batch 450 Frame 3600 Avg_dis:0.02132924017496407\n",
      "Train time 01h 45m 07s Epoch 15 Batch 475 Frame 3800 Avg_dis:0.019769376260228455\n",
      "Train time 01h 45m 20s Epoch 15 Batch 500 Frame 4000 Avg_dis:0.024137724423781037\n",
      "Train time 01h 45m 33s Epoch 15 Batch 525 Frame 4200 Avg_dis:0.021446194732561707\n",
      "Train time 01h 45m 46s Epoch 15 Batch 550 Frame 4400 Avg_dis:0.020798002369701862\n",
      "Train time 01h 45m 58s Epoch 15 Batch 575 Frame 4600 Avg_dis:0.02179141971282661\n",
      "Train time 01h 46m 09s Epoch 15 Batch 600 Frame 4800 Avg_dis:0.014978063176386058\n",
      "Train time 01h 46m 20s Epoch 15 Batch 625 Frame 5000 Avg_dis:0.020069889607839286\n",
      "Train time 01h 46m 32s Epoch 15 Batch 650 Frame 5200 Avg_dis:0.012451610586140305\n",
      "Train time 01h 46m 45s Epoch 15 Batch 675 Frame 5400 Avg_dis:0.012004466785583645\n",
      "Train time 01h 47m 06s Epoch 15 Batch 700 Frame 5600 Avg_dis:0.01622339809546247\n",
      "Train time 01h 47m 27s Epoch 15 Batch 725 Frame 5800 Avg_dis:0.019898632308468223\n",
      "Train time 01h 47m 48s Epoch 15 Batch 750 Frame 6000 Avg_dis:0.021337730227969587\n",
      "Train time 01h 48m 08s Epoch 15 Batch 775 Frame 6200 Avg_dis:0.018529336666688323\n",
      "Train time 01h 48m 30s Epoch 15 Batch 800 Frame 6400 Avg_dis:0.025327409151941538\n",
      "Train time 01h 48m 52s Epoch 15 Batch 825 Frame 6600 Avg_dis:0.01632147142663598\n",
      "Train time 01h 49m 13s Epoch 15 Batch 850 Frame 6800 Avg_dis:0.020430196600500494\n",
      "Train time 01h 49m 35s Epoch 15 Batch 875 Frame 7000 Avg_dis:0.025358911603689194\n",
      "Train time 01h 49m 56s Epoch 15 Batch 900 Frame 7200 Avg_dis:0.013809172611217946\n",
      "Train time 01h 50m 18s Epoch 15 Batch 925 Frame 7400 Avg_dis:0.02554024918936193\n",
      "Train time 01h 50m 39s Epoch 15 Batch 950 Frame 7600 Avg_dis:0.017827594536356628\n",
      "Train time 01h 51m 01s Epoch 15 Batch 975 Frame 7800 Avg_dis:0.023581337358336896\n",
      "Train time 01h 51m 21s Epoch 15 Batch 1000 Frame 8000 Avg_dis:0.021993113798089325\n",
      "Train time 01h 51m 42s Epoch 15 Batch 1025 Frame 8200 Avg_dis:0.01642769540194422\n",
      "Train time 01h 52m 05s Epoch 15 Batch 1050 Frame 8400 Avg_dis:0.016795787727460265\n",
      "Train time 01h 52m 26s Epoch 15 Batch 1075 Frame 8600 Avg_dis:0.021545449853874743\n",
      "Train time 01h 52m 45s Epoch 15 Batch 1100 Frame 8800 Avg_dis:0.02479276614030823\n",
      "Train time 01h 52m 56s Epoch 15 Batch 1125 Frame 9000 Avg_dis:0.020357811590656638\n",
      "Train time 01h 53m 07s Epoch 15 Batch 1150 Frame 9200 Avg_dis:0.01963957294356078\n",
      "Train time 01h 53m 18s Epoch 15 Batch 1175 Frame 9400 Avg_dis:0.013964050507638603\n",
      "Train time 01h 53m 29s Epoch 15 Batch 1200 Frame 9600 Avg_dis:0.020105702336877584\n",
      "Train time 01h 53m 40s Epoch 15 Batch 1225 Frame 9800 Avg_dis:0.021719872253015637\n",
      "Train time 01h 53m 51s Epoch 15 Batch 1250 Frame 10000 Avg_dis:0.029125584638677537\n",
      "Train time 01h 54m 03s Epoch 15 Batch 1275 Frame 10200 Avg_dis:0.023114428331609815\n",
      "Train time 01h 54m 19s Epoch 15 Batch 1300 Frame 10400 Avg_dis:0.02009106840705499\n",
      "Train time 01h 54m 40s Epoch 15 Batch 1325 Frame 10600 Avg_dis:0.0180500284768641\n",
      "Train time 01h 55m 01s Epoch 15 Batch 1350 Frame 10800 Avg_dis:0.020668359065894037\n",
      "Train time 01h 55m 23s Epoch 15 Batch 1375 Frame 11000 Avg_dis:0.016275834932457656\n",
      "Train time 01h 55m 44s Epoch 15 Batch 1400 Frame 11200 Avg_dis:0.02830066892784089\n",
      "Train time 01h 56m 06s Epoch 15 Batch 1425 Frame 11400 Avg_dis:0.021471837302669883\n",
      "Train time 01h 56m 27s Epoch 15 Batch 1450 Frame 11600 Avg_dis:0.019509972538799047\n",
      "Train time 01h 56m 49s Epoch 15 Batch 1475 Frame 11800 Avg_dis:0.021025804744567722\n",
      "Train time 01h 57m 12s Epoch 15 Batch 1500 Frame 12000 Avg_dis:0.01948341296520084\n",
      "Train time 01h 57m 34s Epoch 15 Batch 1525 Frame 12200 Avg_dis:0.023364876629784703\n",
      "Train time 01h 57m 56s Epoch 15 Batch 1550 Frame 12400 Avg_dis:0.02573361329268664\n",
      "Train time 01h 58m 18s Epoch 15 Batch 1575 Frame 12600 Avg_dis:0.022971330443397164\n",
      "Train time 01h 58m 40s Epoch 15 Batch 1600 Frame 12800 Avg_dis:0.02497115475125611\n",
      "Train time 01h 59m 01s Epoch 15 Batch 1625 Frame 13000 Avg_dis:0.023222696385346353\n",
      "Train time 01h 59m 24s Epoch 15 Batch 1650 Frame 13200 Avg_dis:0.023275371990166605\n",
      "Train time 01h 59m 46s Epoch 15 Batch 1675 Frame 13400 Avg_dis:0.028883550316095352\n",
      "Train time 02h 00m 04s Epoch 15 Batch 1700 Frame 13600 Avg_dis:0.019438773160800338\n",
      "Train time 02h 00m 15s Epoch 15 Batch 1725 Frame 13800 Avg_dis:0.02521373040508479\n",
      "Train time 02h 00m 26s Epoch 15 Batch 1750 Frame 14000 Avg_dis:0.02087905805092305\n",
      "Train time 02h 00m 37s Epoch 15 Batch 1775 Frame 14200 Avg_dis:0.018224089464638382\n",
      "Train time 02h 00m 48s Epoch 15 Batch 1800 Frame 14400 Avg_dis:0.02142771054059267\n",
      "Train time 02h 00m 59s Epoch 15 Batch 1825 Frame 14600 Avg_dis:0.020105452626012266\n",
      "Train time 02h 01m 11s Epoch 15 Batch 1850 Frame 14800 Avg_dis:0.021999440505169332\n",
      "Train time 02h 01m 22s Epoch 15 Batch 1875 Frame 15000 Avg_dis:0.02361639670561999\n",
      "Train time 02h 01m 33s Epoch 15 Batch 1900 Frame 15200 Avg_dis:0.021313568577170372\n",
      "Train time 02h 01m 46s Epoch 15 Batch 1925 Frame 15400 Avg_dis:0.019374423776753247\n",
      "Train time 02h 02m 06s Epoch 15 Batch 1950 Frame 15600 Avg_dis:0.02280177571810782\n",
      "Train time 02h 02m 28s Epoch 15 Batch 1975 Frame 15800 Avg_dis:0.020127887022681534\n",
      "Train time 02h 02m 49s Epoch 15 Batch 2000 Frame 16000 Avg_dis:0.014028044359292835\n",
      "Train time 02h 03m 10s Epoch 15 Batch 2025 Frame 16200 Avg_dis:0.025617925100959837\n",
      "Train time 02h 03m 31s Epoch 15 Batch 2050 Frame 16400 Avg_dis:0.02094467682763934\n",
      "Train time 02h 03m 54s Epoch 15 Batch 2075 Frame 16600 Avg_dis:0.020589108957210556\n",
      "Train time 02h 04m 17s Epoch 15 Batch 2100 Frame 16800 Avg_dis:0.018582154880277812\n",
      "Train time 02h 04m 38s Epoch 15 Batch 2125 Frame 17000 Avg_dis:0.02045615017414093\n",
      "Train time 02h 05m 01s Epoch 15 Batch 2150 Frame 17200 Avg_dis:0.02198636473622173\n",
      "Train time 02h 05m 24s Epoch 15 Batch 2175 Frame 17400 Avg_dis:0.026186428091023117\n",
      "Train time 02h 05m 46s Epoch 15 Batch 2200 Frame 17600 Avg_dis:0.027669050847180188\n",
      "Train time 02h 06m 07s Epoch 15 Batch 2225 Frame 17800 Avg_dis:0.016029423102736473\n",
      "Train time 02h 06m 28s Epoch 15 Batch 2250 Frame 18000 Avg_dis:0.011083423218224198\n",
      "Train time 02h 06m 50s Epoch 15 Batch 2275 Frame 18200 Avg_dis:0.017927303328178823\n",
      ">>>>>>>>----------epoch 15 train finish---------<<<<<<<<\n",
      "Test time 02h 07m 39s Epoch 15 TEST FINISH Avg dis: 0.0479930829790249\n"
     ]
    }
   ],
   "source": [
    "best_test = np.Inf\n",
    "print_every = 50\n",
    "\n",
    "if start_epoch == 1:\n",
    "    for log in os.listdir(log_dir):\n",
    "        if '.ipyn' not in log:\n",
    "            os.remove(os.path.join(log_dir, log))\n",
    "st_time = time.time()\n",
    "\n",
    "for epoch in range(start_epoch, nepoch):\n",
    "    logger = setup_logger('epoch%d' % epoch, os.path.join(log_dir, 'epoch_%d_log.txt' % epoch))\n",
    "    mess = 'Train time {0}'.format(time.strftime(\"%Hh %Mm %Ss\", time.gmtime(time.time() - st_time)) + ', ' + 'Training started')\n",
    "    print(mess)\n",
    "    logger.info(mess)\n",
    "    \n",
    "    train_count = 0\n",
    "    train_dis_avg = 0.0\n",
    "    \n",
    "    estimator.train()\n",
    "    optimizer.zero_grad()\n",
    "\n",
    "    for rep in range(repeat_epoch):\n",
    "        for i, data in enumerate(dataloader, 0):\n",
    "            points, choose, img, target, model_points, idx = data \n",
    "            points[0, :, 2] = 0 # we don't know the z\n",
    "            points, choose, img, target, model_points, idx = Variable(points).cuda(), \\\n",
    "                                                             Variable(choose).cuda(), \\\n",
    "                                                             Variable(img).cuda(), \\\n",
    "                                                             Variable(target).cuda(), \\\n",
    "                                                             Variable(model_points).cuda(), \\\n",
    "                                                             Variable(idx).cuda()\n",
    "            \n",
    "            pred_r, pred_t, pred_c, emb = estimator(img, choose, idx)\n",
    "            loss, dis, _, _ = criterion(pred_r, pred_t, pred_c, target, \n",
    "                                  model_points, idx,\n",
    "                                  points, w, refine_start)\n",
    "            loss.backward()\n",
    "            \n",
    "            train_dis_avg += dis.item()\n",
    "            train_count += 1\n",
    "            if train_count % batch_size == 0:\n",
    "                \n",
    "                mess = 'Train time {0} Epoch {1} Batch {2} Frame {3} Avg_dis:{4}'.format(\n",
    "                        time.strftime(\"%Hh %Mm %Ss\", time.gmtime(time.time() - st_time)), \n",
    "                        epoch, int(train_count / batch_size), \n",
    "                        train_count, \n",
    "                        train_dis_avg / batch_size)\n",
    "                logger.info(mess)\n",
    "                \n",
    "                optimizer.step()\n",
    "                optimizer.zero_grad()\n",
    "                train_dis_avg = 0\n",
    "                \n",
    "                \n",
    "                if train_count % print_every == 0:\n",
    "                    print(mess)\n",
    "            \n",
    "            if train_count != 0 and train_count % 500 == 0:                    \n",
    "                torch.save(estimator.state_dict(), '{0}/pose_model_current.pth'.format(outf))\n",
    "            \n",
    "    print('>>>>>>>>----------epoch {0} train finish---------<<<<<<<<'.format(epoch))\n",
    "    \n",
    "    test_dis = 0.0\n",
    "    test_count = 0\n",
    "    estimator.eval()\n",
    "    \n",
    "    for j, data in enumerate(testdataloader, 0):\n",
    "        points, choose, img, target, model_points, idx = data\n",
    "        points[0, :, 2] = 0 # we don't know the z\n",
    "        points, choose, img, target, model_points, idx = Variable(points).cuda(), \\\n",
    "                                                         Variable(choose).cuda(), \\\n",
    "                                                         Variable(img).cuda(), \\\n",
    "                                                         Variable(target).cuda(), \\\n",
    "                                                         Variable(model_points).cuda(), \\\n",
    "                                                         Variable(idx).cuda()\n",
    "       \n",
    "        pred_r, pred_t, pred_c, emb = estimator(img, choose, idx)\n",
    "        _, dis, _, _ = criterion(pred_r, pred_t, pred_c, target,\n",
    "                           model_points, idx, \n",
    "                           points, w, refine_start)\n",
    "        test_dis += dis.item()\n",
    "        mess = 'Test time {0} Test Frame No.{1} dis:{2}'.format(time.strftime(\"%Hh %Mm %Ss\", time.gmtime(time.time() - st_time)), test_count, dis)\n",
    "        logger.info(mess)\n",
    "        \n",
    "        test_count += 1\n",
    "    test_dis = test_dis / test_count\n",
    "    mess = 'Test time {0} Epoch {1} TEST FINISH Avg dis: {2}'.format(time.strftime(\"%Hh %Mm %Ss\", time.gmtime(time.time() - st_time)), epoch, test_dis)\n",
    "    print(mess)\n",
    "    logger.info(mess)\n",
    "    \n",
    "    if test_dis <= best_test:\n",
    "        best_test = test_dis\n",
    "        torch.save(estimator.state_dict(), '{0}/pose_model_{1}_{2}.pth'.format(outf, epoch, test_dis))\n",
    "        print(epoch, '>>>>>>>>----------BEST TEST MODEL SAVED---------<<<<<<<<')\n",
    "        \n",
    "    if best_test < decay_margin and not decay_start:\n",
    "        decay_start = True\n",
    "        lr *= lr_rate\n",
    "        w *= w_rate\n",
    "        optimizer = optim.Adam(estimator.parameters(), lr=lr)"
   ]
  },
  {
   "cell_type": "code",
   "execution_count": null,
   "metadata": {},
   "outputs": [],
   "source": [
    "t = next(iter(dataloader))"
   ]
  },
  {
   "cell_type": "code",
   "execution_count": 14,
   "metadata": {},
   "outputs": [],
   "source": [
    "points, choose, img, target, model_points, idx = t"
   ]
  },
  {
   "cell_type": "code",
   "execution_count": 15,
   "metadata": {},
   "outputs": [
    {
     "data": {
      "text/plain": [
       "torch.Size([1, 500, 3])"
      ]
     },
     "execution_count": 15,
     "metadata": {},
     "output_type": "execute_result"
    }
   ],
   "source": [
    "points.shape"
   ]
  },
  {
   "cell_type": "code",
   "execution_count": 20,
   "metadata": {},
   "outputs": [
    {
     "data": {
      "text/plain": [
       "tensor([[[-0.0631, -0.1219,  1.0574],\n",
       "         [-0.0650, -0.1200,  1.0574],\n",
       "         [-0.0670, -0.1185,  1.0604],\n",
       "         ...,\n",
       "         [-0.0254, -0.0375,  1.0414],\n",
       "         [-0.0217, -0.0376,  1.0444],\n",
       "         [-0.0199, -0.0376,  1.0444]]])"
      ]
     },
     "execution_count": 20,
     "metadata": {},
     "output_type": "execute_result"
    }
   ],
   "source": [
    "points"
   ]
  },
  {
   "cell_type": "code",
   "execution_count": 23,
   "metadata": {},
   "outputs": [
    {
     "data": {
      "text/plain": [
       "torch.Size([1, 500, 3])"
      ]
     },
     "execution_count": 23,
     "metadata": {},
     "output_type": "execute_result"
    }
   ],
   "source": [
    "target.shape"
   ]
  },
  {
   "cell_type": "code",
   "execution_count": 24,
   "metadata": {},
   "outputs": [
    {
     "data": {
      "text/plain": [
       "torch.Size([1, 1, 500])"
      ]
     },
     "execution_count": 24,
     "metadata": {},
     "output_type": "execute_result"
    }
   ],
   "source": [
    "choose.shape"
   ]
  },
  {
   "cell_type": "code",
   "execution_count": 28,
   "metadata": {},
   "outputs": [
    {
     "data": {
      "text/plain": [
       "torch.Size([1, 500, 3])"
      ]
     },
     "execution_count": 28,
     "metadata": {},
     "output_type": "execute_result"
    }
   ],
   "source": [
    "model_points.shape"
   ]
  },
  {
   "cell_type": "code",
   "execution_count": 29,
   "metadata": {},
   "outputs": [
    {
     "data": {
      "text/plain": [
       "tensor([[[-0.0658, -0.0487,  0.0008],\n",
       "         [-0.0638, -0.0188,  0.0085],\n",
       "         [-0.0629, -0.0243,  0.0079],\n",
       "         ...,\n",
       "         [-0.0101,  0.0565, -0.0162],\n",
       "         [-0.0658,  0.0009,  0.0301],\n",
       "         [ 0.0184,  0.0379,  0.0174]]])"
      ]
     },
     "execution_count": 29,
     "metadata": {},
     "output_type": "execute_result"
    }
   ],
   "source": [
    "model_points"
   ]
  },
  {
   "cell_type": "code",
   "execution_count": 26,
   "metadata": {},
   "outputs": [
    {
     "data": {
      "text/plain": [
       "torch.Size([1, 3, 120, 120])"
      ]
     },
     "execution_count": 26,
     "metadata": {},
     "output_type": "execute_result"
    }
   ],
   "source": [
    "img.shape"
   ]
  },
  {
   "cell_type": "code",
   "execution_count": 27,
   "metadata": {},
   "outputs": [
    {
     "data": {
      "text/plain": [
       "tensor([[[ 1409,  1490,  1495,  1528,  1530,  1638,  1646,  1756,  1770,  1771,\n",
       "           1855,  1879,  1882,  1885,  1965,  2001,  2016,  2089,  2094,  2098,\n",
       "           2103,  2105,  2121,  2122,  2134,  2186,  2199,  2200,  2223,  2227,\n",
       "           2235,  2238,  2240,  2249,  2314,  2325,  2340,  2352,  2362,  2373,\n",
       "           2425,  2432,  2438,  2452,  2454,  2457,  2474,  2497,  2575,  2583,\n",
       "           2591,  2607,  2618,  2665,  2674,  2691,  2696,  2712,  2784,  2785,\n",
       "           2797,  2826,  2852,  2906,  2921,  2924,  2949,  2973,  3022,  3032,\n",
       "           3046,  3052,  3070,  3078,  3080,  3097,  3142,  3145,  3146,  3147,\n",
       "           3155,  3159,  3162,  3182,  3201,  3203,  3204,  3219,  3257,  3269,\n",
       "           3275,  3280,  3292,  3305,  3313,  3319,  3320,  3324,  3329,  3330,\n",
       "           3340,  3342,  3397,  3408,  3412,  3437,  3448,  3455,  3522,  3523,\n",
       "           3526,  3536,  3539,  3541,  3542,  3545,  3548,  3561,  3582,  3622,\n",
       "           3625,  3628,  3638,  3663,  3679,  3686,  3692,  3703,  3733,  3744,\n",
       "           3764,  3771,  3793,  3802,  3805,  3809,  3908,  3911,  3922,  3931,\n",
       "           3972,  3983,  3989,  4010,  4012,  4042,  4047,  4061,  4094,  4097,\n",
       "           4116,  4139,  4144,  4155,  4158,  4164,  4174,  4214,  4228,  4230,\n",
       "           4232,  4251,  4265,  4277,  4278,  4281,  4283,  4293,  4296,  4340,\n",
       "           4351,  4384,  4392,  4413,  4453,  4460,  4463,  4488,  4489,  4521,\n",
       "           4522,  4530,  4535,  4543,  4545,  4581,  4590,  4591,  4592,  4602,\n",
       "           4611,  4613,  4615,  4619,  4635,  4642,  4694,  4718,  4738,  4776,\n",
       "           4777,  4782,  4846,  4888,  4891,  4943,  4970,  4974,  5012,  5089,\n",
       "           5111,  5118,  5121,  5124,  5144,  5199,  5215,  5233,  5308,  5332,\n",
       "           5334,  5336,  5340,  5369,  5381,  5415,  5426,  5431,  5432,  5440,\n",
       "           5448,  5459,  5485,  5503,  5538,  5539,  5556,  5561,  5567,  5569,\n",
       "           5574,  5580,  5589,  5603,  5656,  5669,  5684,  5687,  5694,  5702,\n",
       "           5712,  5721,  5726,  5729,  5778,  5800,  5801,  5809,  5826,  5841,\n",
       "           5850,  5853,  5911,  5914,  5925,  5929,  5931,  5947,  5952,  6028,\n",
       "           6036,  6039,  6069,  6171,  6177,  6195,  6197,  6201,  6205,  6210,\n",
       "           6264,  6287,  6302,  6313,  6316,  6386,  6416,  6422,  6437,  6439,\n",
       "           6441,  6442,  6515,  6528,  6530,  6562,  6568,  6627,  6668,  6673,\n",
       "           6679,  6754,  6774,  6783,  6803,  6868,  6870,  6886,  6888,  6893,\n",
       "           6985,  6987,  6991,  6994,  7000,  7007,  7008,  7011,  7020,  7039,\n",
       "           7107,  7131,  7227,  7239,  7240,  7246,  7254,  7261,  7263,  7353,\n",
       "           7362,  7363,  7389,  7466,  7470,  7485,  7503,  7591,  7597,  7605,\n",
       "           7627,  7702,  7716,  7728,  7743,  7823,  7837,  7863,  8067,  8091,\n",
       "           8114,  8193,  8214,  8228,  8230,  8318,  8330,  8341,  8444,  8454,\n",
       "           8466,  8469,  8471,  8473,  8549,  8568,  8666,  8671,  8703,  8710,\n",
       "           8714,  8792,  8795,  8803,  8816,  8821,  8822,  8836,  8908,  8924,\n",
       "           8936,  8942,  8948,  8952,  9045,  9049,  9051,  9147,  9152,  9165,\n",
       "           9179,  9191,  9193,  9277,  9287,  9299,  9305,  9312,  9319,  9400,\n",
       "           9420,  9434,  9436,  9439,  9509,  9534,  9535,  9540,  9555,  9641,\n",
       "           9647,  9754,  9762,  9767,  9793,  9796,  9798,  9800,  9877,  9895,\n",
       "           9918,  9920,  9992, 10041, 10114, 10136, 10146, 10152, 10158, 10245,\n",
       "          10368, 10380, 10382, 10392, 10395, 10396, 10399, 10400, 10477, 10483,\n",
       "          10486, 10503, 10512, 10519, 10596, 10612, 10618, 10620, 10626, 10633,\n",
       "          10636, 10712, 10715, 10716, 10717, 10724, 10743, 10833, 10837, 10855,\n",
       "          10863, 10869, 10873, 11110, 11117, 11224, 11234, 11316, 11329, 11340,\n",
       "          11437, 11439, 11462, 11478, 11573, 11588, 11589, 11708, 11709, 11712,\n",
       "          11715, 11814, 11827, 12039, 12053, 12176, 12282, 12285, 12400, 12401,\n",
       "          12403, 12426, 12520, 12537, 12542, 12653, 12777, 12894, 13005, 13126]]])"
      ]
     },
     "execution_count": 27,
     "metadata": {},
     "output_type": "execute_result"
    }
   ],
   "source": [
    "choose"
   ]
  },
  {
   "cell_type": "code",
   "execution_count": null,
   "metadata": {},
   "outputs": [],
   "source": []
  }
 ],
 "metadata": {
  "kernelspec": {
   "display_name": "recvis",
   "language": "python",
   "name": "recvis"
  },
  "language_info": {
   "codemirror_mode": {
    "name": "ipython",
    "version": 3
   },
   "file_extension": ".py",
   "mimetype": "text/x-python",
   "name": "python",
   "nbconvert_exporter": "python",
   "pygments_lexer": "ipython3",
   "version": "3.6.9"
  }
 },
 "nbformat": 4,
 "nbformat_minor": 4
}
