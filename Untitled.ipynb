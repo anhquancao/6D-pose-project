{
 "cells": [
  {
   "cell_type": "code",
   "execution_count": 1,
   "metadata": {},
   "outputs": [],
   "source": [
    "from lib.network import PoseNet, PoseRefineNet\n",
    "from lib.loss import Loss\n",
    "from lib.loss_refiner import Loss_refine\n",
    "from lib.utils import setup_logger\n",
    "from datasets.linemod.dataset import PoseDataset as PoseDataset_linemod\n",
    "import torch\n",
    "import os\n",
    "from torch import optim\n",
    "import numpy as np\n",
    "import time\n",
    "from torch.autograd import Variable"
   ]
  },
  {
   "cell_type": "code",
   "execution_count": 17,
   "metadata": {},
   "outputs": [],
   "source": [
    "import warnings\n",
    "warnings.filterwarnings(\"ignore\", category=UserWarning) "
   ]
  },
  {
   "cell_type": "code",
   "execution_count": 2,
   "metadata": {},
   "outputs": [],
   "source": [
    "num_objects = 13\n",
    "num_points = 500\n",
    "outf = 'trained_models/linemod'\n",
    "log_dir = 'experiments/logs/linemod'\n",
    "repeat_epoch = 20"
   ]
  },
  {
   "cell_type": "code",
   "execution_count": 3,
   "metadata": {},
   "outputs": [],
   "source": [
    "estimator = PoseNet(num_points = num_points, num_obj = num_objects)\n",
    "estimator.cuda();"
   ]
  },
  {
   "cell_type": "code",
   "execution_count": 4,
   "metadata": {},
   "outputs": [],
   "source": [
    "lr = 0.0001\n",
    "\n",
    "optimizer = optim.Adam(estimator.parameters(), lr=lr)"
   ]
  },
  {
   "cell_type": "code",
   "execution_count": 5,
   "metadata": {},
   "outputs": [
    {
     "name": "stderr",
     "output_type": "stream",
     "text": [
      "/home/aquancva/DenseFusion/datasets/linemod/dataset.py:66: YAMLLoadWarning: calling yaml.load() without Loader=... is deprecated, as the default Loader is unsafe. Please read https://msg.pyyaml.org/load for full details.\n",
      "  self.meta[item] = yaml.load(meta_file)\n"
     ]
    },
    {
     "name": "stdout",
     "output_type": "stream",
     "text": [
      "Object 1 buffer loaded\n",
      "Object 2 buffer loaded\n",
      "Object 4 buffer loaded\n",
      "Object 5 buffer loaded\n",
      "Object 6 buffer loaded\n",
      "Object 8 buffer loaded\n",
      "Object 9 buffer loaded\n",
      "Object 10 buffer loaded\n",
      "Object 11 buffer loaded\n",
      "Object 12 buffer loaded\n",
      "Object 13 buffer loaded\n",
      "Object 14 buffer loaded\n",
      "Object 15 buffer loaded\n"
     ]
    }
   ],
   "source": [
    "dataset_root = \"./datasets/linemod/Linemod_preprocessed\"\n",
    "noise_trans = 0.03\n",
    "refine_start = False\n",
    "decay_start = False\n",
    "\n",
    "\n",
    "dataset = PoseDataset_linemod('train', \n",
    "                              num_points, \n",
    "                              True, \n",
    "                              dataset_root, \n",
    "                              noise_trans, \n",
    "                              refine_start)\n",
    "\n",
    "workers = 4\n",
    "dataloader = torch.utils.data.DataLoader(dataset, \n",
    "                                         batch_size=1, \n",
    "                                         shuffle=True, \n",
    "                                         num_workers=workers)"
   ]
  },
  {
   "cell_type": "code",
   "execution_count": 6,
   "metadata": {},
   "outputs": [
    {
     "name": "stdout",
     "output_type": "stream",
     "text": [
      "Object 1 buffer loaded\n",
      "Object 2 buffer loaded\n",
      "Object 4 buffer loaded\n",
      "Object 5 buffer loaded\n",
      "Object 6 buffer loaded\n",
      "Object 8 buffer loaded\n",
      "Object 9 buffer loaded\n",
      "Object 10 buffer loaded\n",
      "Object 11 buffer loaded\n",
      "Object 12 buffer loaded\n",
      "Object 13 buffer loaded\n",
      "Object 14 buffer loaded\n",
      "Object 15 buffer loaded\n"
     ]
    }
   ],
   "source": [
    "test_dataset = PoseDataset_linemod('test', \n",
    "                                   num_points, \n",
    "                                   False, \n",
    "                                   dataset_root, \n",
    "                                   0.0, \n",
    "                                   refine_start)\n",
    "testdataloader = torch.utils.data.DataLoader(test_dataset, \n",
    "                                             batch_size=1, \n",
    "                                             shuffle=False, \n",
    "                                             num_workers=workers)"
   ]
  },
  {
   "cell_type": "code",
   "execution_count": 7,
   "metadata": {},
   "outputs": [],
   "source": [
    "sym_list = dataset.get_sym_list()\n",
    "num_points_mesh = dataset.get_num_points_mesh()"
   ]
  },
  {
   "cell_type": "code",
   "execution_count": 8,
   "metadata": {},
   "outputs": [
    {
     "name": "stdout",
     "output_type": "stream",
     "text": [
      ">>>>>>>>----------Dataset loaded!---------<<<<<<<<\n",
      "length of the training set: 2373\n",
      "length of the testing set: 1336\n",
      "number of sample points on mesh: 500\n",
      "symmetry object list: [7, 8]\n"
     ]
    }
   ],
   "source": [
    "print('>>>>>>>>----------Dataset loaded!---------<<<<<<<<\\nlength of the training set: {0}\\nlength of the testing set: {1}\\nnumber of sample points on mesh: {2}\\nsymmetry object list: {3}'\n",
    "      .format(len(dataset), \n",
    "              len(test_dataset), \n",
    "              num_points_mesh, \n",
    "              sym_list))"
   ]
  },
  {
   "cell_type": "code",
   "execution_count": 9,
   "metadata": {},
   "outputs": [
    {
     "name": "stderr",
     "output_type": "stream",
     "text": [
      "/home/aquancva/.conda/envs/visual/lib/python3.6/site-packages/torch/nn/_reduction.py:43: UserWarning: size_average and reduce args will be deprecated, please use reduction='mean' instead.\n",
      "  warnings.warn(warning.format(ret))\n"
     ]
    }
   ],
   "source": [
    "criterion = Loss(num_points_mesh, sym_list)"
   ]
  },
  {
   "cell_type": "code",
   "execution_count": 21,
   "metadata": {},
   "outputs": [],
   "source": [
    "start_epoch = 1\n",
    "nepoch = 30\n",
    "w = 0.015\n",
    "batch_size = 32"
   ]
  },
  {
   "cell_type": "code",
   "execution_count": 22,
   "metadata": {},
   "outputs": [
    {
     "name": "stdout",
     "output_type": "stream",
     "text": [
      "Train time 00h 00m 00s, Training started\n",
      "Train time 00h 00m 03s Epoch 1 Batch 1 Frame 32 Avg_dis:0.08700306748505682\n",
      "Train time 00h 00m 06s Epoch 1 Batch 2 Frame 64 Avg_dis:0.09126259718323126\n",
      "Train time 00h 00m 09s Epoch 1 Batch 3 Frame 96 Avg_dis:0.08558356255525723\n",
      "Train time 00h 00m 11s Epoch 1 Batch 4 Frame 128 Avg_dis:0.08743981044972315\n",
      "Train time 00h 00m 14s Epoch 1 Batch 5 Frame 160 Avg_dis:0.08111120719695464\n",
      "Train time 00h 00m 17s Epoch 1 Batch 6 Frame 192 Avg_dis:0.07674697798211128\n",
      "Train time 00h 00m 20s Epoch 1 Batch 7 Frame 224 Avg_dis:0.09253861883189529\n",
      "Train time 00h 00m 23s Epoch 1 Batch 8 Frame 256 Avg_dis:0.08536792238010094\n",
      "Train time 00h 00m 26s Epoch 1 Batch 9 Frame 288 Avg_dis:0.09068858780665323\n",
      "Train time 00h 00m 28s Epoch 1 Batch 10 Frame 320 Avg_dis:0.08681313059059903\n",
      "Train time 00h 00m 31s Epoch 1 Batch 11 Frame 352 Avg_dis:0.08878989791264758\n",
      "Train time 00h 00m 34s Epoch 1 Batch 12 Frame 384 Avg_dis:0.08421481121331453\n",
      "Train time 00h 00m 37s Epoch 1 Batch 13 Frame 416 Avg_dis:0.09397817018907517\n",
      "Train time 00h 00m 39s Epoch 1 Batch 14 Frame 448 Avg_dis:0.0695201136986725\n",
      "Train time 00h 00m 42s Epoch 1 Batch 15 Frame 480 Avg_dis:0.09321790462126955\n",
      "Train time 00h 00m 45s Epoch 1 Batch 16 Frame 512 Avg_dis:0.07904708222486079\n",
      "Train time 00h 00m 48s Epoch 1 Batch 17 Frame 544 Avg_dis:0.10190210363361984\n",
      "Train time 00h 00m 51s Epoch 1 Batch 18 Frame 576 Avg_dis:0.08419174229493365\n",
      "Train time 00h 00m 54s Epoch 1 Batch 19 Frame 608 Avg_dis:0.08083758933935314\n",
      "Train time 00h 00m 56s Epoch 1 Batch 20 Frame 640 Avg_dis:0.0776007265667431\n",
      "Train time 00h 00m 59s Epoch 1 Batch 21 Frame 672 Avg_dis:0.07983643672196195\n",
      "Train time 00h 01m 02s Epoch 1 Batch 22 Frame 704 Avg_dis:0.08141752009396441\n",
      "Train time 00h 01m 05s Epoch 1 Batch 23 Frame 736 Avg_dis:0.07889829136547633\n"
     ]
    },
    {
     "ename": "KeyboardInterrupt",
     "evalue": "",
     "output_type": "error",
     "traceback": [
      "\u001b[0;31m---------------------------------------------------------------------------\u001b[0m",
      "\u001b[0;31mKeyboardInterrupt\u001b[0m                         Traceback (most recent call last)",
      "\u001b[0;32m<ipython-input-22-47c22c69fbaa>\u001b[0m in \u001b[0;36m<module>\u001b[0;34m\u001b[0m\n\u001b[1;32m     39\u001b[0m             \u001b[0mloss\u001b[0m\u001b[0;34m.\u001b[0m\u001b[0mbackward\u001b[0m\u001b[0;34m(\u001b[0m\u001b[0;34m)\u001b[0m\u001b[0;34m\u001b[0m\u001b[0;34m\u001b[0m\u001b[0m\n\u001b[1;32m     40\u001b[0m \u001b[0;34m\u001b[0m\u001b[0m\n\u001b[0;32m---> 41\u001b[0;31m             \u001b[0mtrain_dis_avg\u001b[0m \u001b[0;34m+=\u001b[0m \u001b[0mdis\u001b[0m\u001b[0;34m.\u001b[0m\u001b[0mitem\u001b[0m\u001b[0;34m(\u001b[0m\u001b[0;34m)\u001b[0m\u001b[0;34m\u001b[0m\u001b[0;34m\u001b[0m\u001b[0m\n\u001b[0m\u001b[1;32m     42\u001b[0m             \u001b[0mtrain_count\u001b[0m \u001b[0;34m+=\u001b[0m \u001b[0;36m1\u001b[0m\u001b[0;34m\u001b[0m\u001b[0;34m\u001b[0m\u001b[0m\n\u001b[1;32m     43\u001b[0m             \u001b[0;32mif\u001b[0m \u001b[0mtrain_count\u001b[0m \u001b[0;34m%\u001b[0m \u001b[0mbatch_size\u001b[0m \u001b[0;34m==\u001b[0m \u001b[0;36m0\u001b[0m\u001b[0;34m:\u001b[0m\u001b[0;34m\u001b[0m\u001b[0;34m\u001b[0m\u001b[0m\n",
      "\u001b[0;31mKeyboardInterrupt\u001b[0m: "
     ]
    }
   ],
   "source": [
    "best_test = np.Inf\n",
    "\n",
    "if start_epoch == 1:\n",
    "    for log in os.listdir(log_dir):\n",
    "        if '.ipyn' not in log:\n",
    "            os.remove(os.path.join(log_dir, log))\n",
    "st_time = time.time()\n",
    "\n",
    "for epoch in range(start_epoch, nepoch):\n",
    "    logger = setup_logger('epoch%d' % epoch, os.path.join(log_dir, 'epoch_%d_log.txt' % epoch))\n",
    "    mess = 'Train time {0}'.format(time.strftime(\"%Hh %Mm %Ss\", time.gmtime(time.time() - st_time)) + ', ' + 'Training started')\n",
    "    logger.info(mess)\n",
    "    print(mess)\n",
    "\n",
    "    train_count = 0\n",
    "    train_dis_avg = 0.0\n",
    "    \n",
    "    estimator.train()\n",
    "    optimizer.zero_grad()\n",
    "\n",
    "    for rep in range(repeat_epoch):\n",
    "        for i, data in enumerate(dataloader, 0):\n",
    "            points, choose, img, target, model_points, idx = data            \n",
    "            points, choose, img, target, model_points, idx = Variable(points).cuda(), \\\n",
    "                                                             Variable(choose).cuda(), \\\n",
    "                                                             Variable(img).cuda(), \\\n",
    "                                                             Variable(target).cuda(), \\\n",
    "                                                             Variable(model_points).cuda(), \\\n",
    "                                                             Variable(idx).cuda()\n",
    "            pred_r, pred_t, pred_c, emb = estimator(img, points, choose, idx)\n",
    "            loss, dis, new_points, new_target = criterion(pred_r, \n",
    "                                                          pred_t, \n",
    "                                                          pred_c, \n",
    "                                                          target, \n",
    "                                                          model_points, \n",
    "                                                          idx, \n",
    "                                                          points, \n",
    "                                                          w, refine_start)\n",
    "            loss.backward()\n",
    "            \n",
    "            train_dis_avg += dis.item()\n",
    "            train_count += 1\n",
    "            if train_count % batch_size == 0:\n",
    "                mess = 'Train time {0} Epoch {1} Batch {2} Frame {3} Avg_dis:{4}'.format(\n",
    "                    time.strftime(\"%Hh %Mm %Ss\", time.gmtime(time.time() - st_time)), \n",
    "                    epoch, int(train_count / batch_size), \n",
    "                    train_count, \n",
    "                    train_dis_avg / batch_size)\n",
    "                \n",
    "                logger.info(mess)\n",
    "                print(mess)\n",
    "                \n",
    "                optimizer.step()\n",
    "                optimizer.zero_grad()\n",
    "                train_dis_avg = 0\n",
    "            \n",
    "            if train_count != 0 and train_count % 500 == 0:                    \n",
    "                torch.save(estimator.state_dict(), '{0}/pose_model_current.pth'.format(outf))\n",
    "            \n",
    "    print('>>>>>>>>----------epoch {0} train finish---------<<<<<<<<'.format(epoch))"
   ]
  },
  {
   "cell_type": "code",
   "execution_count": 34,
   "metadata": {},
   "outputs": [],
   "source": [
    "t = next(iter(dataloader))"
   ]
  },
  {
   "cell_type": "code",
   "execution_count": 35,
   "metadata": {},
   "outputs": [],
   "source": [
    "points, choose, img, target, model_points, idx = t"
   ]
  },
  {
   "cell_type": "code",
   "execution_count": 38,
   "metadata": {},
   "outputs": [
    {
     "data": {
      "text/plain": [
       "tensor([[[-0.0656,  0.0109,  0.7095],\n",
       "         [-0.0558,  0.0123,  0.7145],\n",
       "         [-0.0706,  0.0134,  0.7085],\n",
       "         ...,\n",
       "         [ 0.1228,  0.1873,  0.8365],\n",
       "         [ 0.0980,  0.1772,  0.7855],\n",
       "         [ 0.1110,  0.1805,  0.7875]]])"
      ]
     },
     "execution_count": 38,
     "metadata": {},
     "output_type": "execute_result"
    }
   ],
   "source": [
    "points"
   ]
  },
  {
   "cell_type": "code",
   "execution_count": 47,
   "metadata": {},
   "outputs": [
    {
     "data": {
      "text/plain": [
       "tensor([[[ 0.0571,  0.1225,  0.8445],\n",
       "         [ 0.0215,  0.1085,  0.8460],\n",
       "         [ 0.0319,  0.1271,  0.8445],\n",
       "         ...,\n",
       "         [-0.0620,  0.0131,  0.7082],\n",
       "         [ 0.0174,  0.0546,  0.6676],\n",
       "         [-0.0015,  0.0422,  0.6862]]])"
      ]
     },
     "execution_count": 47,
     "metadata": {},
     "output_type": "execute_result"
    }
   ],
   "source": [
    "target"
   ]
  },
  {
   "cell_type": "code",
   "execution_count": null,
   "metadata": {},
   "outputs": [],
   "source": []
  }
 ],
 "metadata": {
  "kernelspec": {
   "display_name": "recvis",
   "language": "python",
   "name": "recvis"
  },
  "language_info": {
   "codemirror_mode": {
    "name": "ipython",
    "version": 3
   },
   "file_extension": ".py",
   "mimetype": "text/x-python",
   "name": "python",
   "nbconvert_exporter": "python",
   "pygments_lexer": "ipython3",
   "version": "3.6.9"
  }
 },
 "nbformat": 4,
 "nbformat_minor": 4
}
