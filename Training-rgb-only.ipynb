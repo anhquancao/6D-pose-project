{
 "cells": [
  {
   "cell_type": "code",
   "execution_count": 87,
   "metadata": {},
   "outputs": [
    {
     "name": "stdout",
     "output_type": "stream",
     "text": [
      "The autoreload extension is already loaded. To reload it, use:\n",
      "  %reload_ext autoreload\n"
     ]
    }
   ],
   "source": [
    "from lib.network import PoseNetRGBOnly\n",
    "from lib.loss import Loss\n",
    "from lib.utils import setup_logger\n",
    "from datasets.linemod.dataset import PoseDataset as PoseDataset_linemod\n",
    "import torch\n",
    "import os\n",
    "from torch import optim\n",
    "import numpy as np\n",
    "import time\n",
    "from torch.autograd import Variable\n",
    "%load_ext autoreload\n",
    "%autoreload 2\n"
   ]
  },
  {
   "cell_type": "code",
   "execution_count": 88,
   "metadata": {},
   "outputs": [],
   "source": [
    "import warnings\n",
    "warnings.filterwarnings(\"ignore\", category=UserWarning) "
   ]
  },
  {
   "cell_type": "code",
   "execution_count": 89,
   "metadata": {},
   "outputs": [],
   "source": [
    "num_objects = 5\n",
    "num_points = 500\n",
    "outf = 'trained_models/linemod'\n",
    "log_dir = 'experiments/logs/linemod'\n",
    "repeat_epoch = 20\n",
    "decay_margin = 0.016\n",
    "decay_start = False\n",
    "lr_rate = 0.3\n",
    "w_rate = 0.3"
   ]
  },
  {
   "cell_type": "code",
   "execution_count": 90,
   "metadata": {},
   "outputs": [],
   "source": [
    "estimator = PoseNetRGBOnly(num_points=num_points, num_obj = num_objects)\n",
    "estimator.cuda();\n",
    "lr = 0.0001\n",
    "optimizer = optim.Adam(estimator.parameters(), lr=lr)"
   ]
  },
  {
   "cell_type": "code",
   "execution_count": 36,
   "metadata": {},
   "outputs": [
    {
     "name": "stderr",
     "output_type": "stream",
     "text": [
      "/home/aquancva/DenseFusion/datasets/linemod/dataset.py:66: YAMLLoadWarning: calling yaml.load() without Loader=... is deprecated, as the default Loader is unsafe. Please read https://msg.pyyaml.org/load for full details.\n",
      "  self.meta[item] = yaml.load(meta_file)\n"
     ]
    },
    {
     "name": "stdout",
     "output_type": "stream",
     "text": [
      "Object 2 buffer loaded\n",
      "Object 4 buffer loaded\n",
      "Object 5 buffer loaded\n",
      "Object 10 buffer loaded\n",
      "Object 11 buffer loaded\n"
     ]
    }
   ],
   "source": [
    "dataset_root = \"./datasets/linemod/Linemod_preprocessed\"\n",
    "noise_trans = 0.03\n",
    "refine_start = False\n",
    "decay_start = False\n",
    "\n",
    "\n",
    "dataset = PoseDataset_linemod('train', \n",
    "                              num_points, \n",
    "                              True, \n",
    "                              dataset_root, \n",
    "                              noise_trans, \n",
    "                              refine_start)\n",
    "\n",
    "workers = 4\n",
    "dataloader = torch.utils.data.DataLoader(dataset, \n",
    "                                         batch_size=1, \n",
    "                                         shuffle=True, \n",
    "                                         num_workers=workers)"
   ]
  },
  {
   "cell_type": "code",
   "execution_count": 13,
   "metadata": {},
   "outputs": [
    {
     "name": "stdout",
     "output_type": "stream",
     "text": [
      "Object 2 buffer loaded\n",
      "Object 4 buffer loaded\n",
      "Object 5 buffer loaded\n",
      "Object 10 buffer loaded\n",
      "Object 11 buffer loaded\n"
     ]
    }
   ],
   "source": [
    "test_dataset = PoseDataset_linemod('test', \n",
    "                                   num_points, \n",
    "                                   False, \n",
    "                                   dataset_root, \n",
    "                                   0.0, \n",
    "                                   refine_start)\n",
    "testdataloader = torch.utils.data.DataLoader(test_dataset, \n",
    "                                             batch_size=1, \n",
    "                                             shuffle=False, \n",
    "                                             num_workers=workers)"
   ]
  },
  {
   "cell_type": "code",
   "execution_count": 37,
   "metadata": {},
   "outputs": [],
   "source": [
    "sym_list = dataset.get_sym_list()\n",
    "num_points_mesh = dataset.get_num_points_mesh()"
   ]
  },
  {
   "cell_type": "code",
   "execution_count": 38,
   "metadata": {},
   "outputs": [
    {
     "name": "stdout",
     "output_type": "stream",
     "text": [
      ">>>>>>>>----------Dataset loaded!---------<<<<<<<<\n",
      "length of the training set: 914\n",
      "length of the testing set: 515\n",
      "number of sample points on mesh: 500\n",
      "symmetry object list: [3, 4]\n"
     ]
    }
   ],
   "source": [
    "print('>>>>>>>>----------Dataset loaded!---------<<<<<<<<\\nlength of the training set: {0}\\nlength of the testing set: {1}\\nnumber of sample points on mesh: {2}\\nsymmetry object list: {3}'\n",
    "      .format(len(dataset), \n",
    "              len(test_dataset), \n",
    "              num_points_mesh, \n",
    "              sym_list))"
   ]
  },
  {
   "cell_type": "code",
   "execution_count": 39,
   "metadata": {},
   "outputs": [],
   "source": [
    "criterion = Loss(num_points_mesh, sym_list)"
   ]
  },
  {
   "cell_type": "code",
   "execution_count": 79,
   "metadata": {},
   "outputs": [],
   "source": [
    "start_epoch = 1\n",
    "nepoch = 15\n",
    "w = 0.015\n",
    "batch_size = 8"
   ]
  },
  {
   "cell_type": "code",
   "execution_count": 80,
   "metadata": {},
   "outputs": [
    {
     "data": {
      "text/plain": [
       "torch.Size([1, 1, 500])"
      ]
     },
     "execution_count": 80,
     "metadata": {},
     "output_type": "execute_result"
    }
   ],
   "source": [
    "next(iter(dataloader))[1].shape"
   ]
  },
  {
   "cell_type": "code",
   "execution_count": 81,
   "metadata": {},
   "outputs": [
    {
     "name": "stdout",
     "output_type": "stream",
     "text": [
      "Train time 00h 00m 00s, Training started\n",
      "Train time 00h 00m 10s Epoch 1 Batch 25 Frame 200 Avg_dis:0.13151078205555677\n",
      "Train time 00h 00m 19s Epoch 1 Batch 50 Frame 400 Avg_dis:0.16230511292815208\n",
      "Train time 00h 00m 29s Epoch 1 Batch 75 Frame 600 Avg_dis:0.15769264521077275\n",
      "Train time 00h 00m 39s Epoch 1 Batch 100 Frame 800 Avg_dis:0.14376071048900485\n",
      "Train time 00h 00m 49s Epoch 1 Batch 125 Frame 1000 Avg_dis:0.1746130739338696\n",
      "Train time 00h 00m 59s Epoch 1 Batch 150 Frame 1200 Avg_dis:0.13939760252833366\n",
      "Train time 00h 01m 09s Epoch 1 Batch 175 Frame 1400 Avg_dis:0.14079781575128436\n",
      "Train time 00h 01m 19s Epoch 1 Batch 200 Frame 1600 Avg_dis:0.14529908681288362\n",
      "Train time 00h 01m 29s Epoch 1 Batch 225 Frame 1800 Avg_dis:0.13350298441946507\n",
      "Train time 00h 01m 39s Epoch 1 Batch 250 Frame 2000 Avg_dis:0.1803905749693513\n",
      "Train time 00h 01m 49s Epoch 1 Batch 275 Frame 2200 Avg_dis:0.19983349414542317\n",
      "Train time 00h 01m 58s Epoch 1 Batch 300 Frame 2400 Avg_dis:0.1503611197695136\n",
      "Train time 00h 02m 08s Epoch 1 Batch 325 Frame 2600 Avg_dis:0.14044544007629156\n",
      "Train time 00h 02m 18s Epoch 1 Batch 350 Frame 2800 Avg_dis:0.17000589799135923\n",
      "Train time 00h 02m 28s Epoch 1 Batch 375 Frame 3000 Avg_dis:0.12687973538413644\n",
      "Train time 00h 02m 38s Epoch 1 Batch 400 Frame 3200 Avg_dis:0.17657368583604693\n",
      "Train time 00h 02m 48s Epoch 1 Batch 425 Frame 3400 Avg_dis:0.11763558816164732\n",
      "Train time 00h 02m 58s Epoch 1 Batch 450 Frame 3600 Avg_dis:0.19523248821496964\n",
      "Train time 00h 03m 08s Epoch 1 Batch 475 Frame 3800 Avg_dis:0.15454114275053144\n",
      "Train time 00h 03m 17s Epoch 1 Batch 500 Frame 4000 Avg_dis:0.139685797970742\n",
      "Train time 00h 03m 27s Epoch 1 Batch 525 Frame 4200 Avg_dis:0.14467353466898203\n",
      "Train time 00h 03m 37s Epoch 1 Batch 550 Frame 4400 Avg_dis:0.15339897153899074\n",
      "Train time 00h 03m 47s Epoch 1 Batch 575 Frame 4600 Avg_dis:0.1552934399805963\n",
      "Train time 00h 03m 57s Epoch 1 Batch 600 Frame 4800 Avg_dis:0.13867677375674248\n",
      "Train time 00h 04m 07s Epoch 1 Batch 625 Frame 5000 Avg_dis:0.18184730224311352\n",
      "Train time 00h 04m 17s Epoch 1 Batch 650 Frame 5200 Avg_dis:0.12412559660151601\n",
      "Train time 00h 04m 26s Epoch 1 Batch 675 Frame 5400 Avg_dis:0.13178531033918262\n",
      "Train time 00h 04m 36s Epoch 1 Batch 700 Frame 5600 Avg_dis:0.1463757986202836\n",
      "Train time 00h 04m 46s Epoch 1 Batch 725 Frame 5800 Avg_dis:0.1745576076209545\n",
      "Train time 00h 04m 56s Epoch 1 Batch 750 Frame 6000 Avg_dis:0.09962612809613347\n",
      "Train time 00h 05m 06s Epoch 1 Batch 775 Frame 6200 Avg_dis:0.12435811385512352\n",
      "Train time 00h 05m 16s Epoch 1 Batch 800 Frame 6400 Avg_dis:0.19673000648617744\n",
      "Train time 00h 05m 26s Epoch 1 Batch 825 Frame 6600 Avg_dis:0.17918746080249548\n",
      "Train time 00h 05m 35s Epoch 1 Batch 850 Frame 6800 Avg_dis:0.1794820714276284\n",
      "Train time 00h 05m 45s Epoch 1 Batch 875 Frame 7000 Avg_dis:0.21505349781364202\n",
      "Train time 00h 05m 55s Epoch 1 Batch 900 Frame 7200 Avg_dis:0.14102512644603848\n",
      "Train time 00h 06m 05s Epoch 1 Batch 925 Frame 7400 Avg_dis:0.15642289398238063\n",
      "Train time 00h 06m 15s Epoch 1 Batch 950 Frame 7600 Avg_dis:0.14300791267305613\n",
      "Train time 00h 06m 25s Epoch 1 Batch 975 Frame 7800 Avg_dis:0.15473077888600528\n",
      "Train time 00h 06m 34s Epoch 1 Batch 1000 Frame 8000 Avg_dis:0.11291154101490974\n",
      "Train time 00h 06m 44s Epoch 1 Batch 1025 Frame 8200 Avg_dis:0.11166725074872375\n",
      "Train time 00h 06m 55s Epoch 1 Batch 1050 Frame 8400 Avg_dis:0.1753352996893227\n",
      "Train time 00h 07m 05s Epoch 1 Batch 1075 Frame 8600 Avg_dis:0.10915061226114631\n",
      "Train time 00h 07m 14s Epoch 1 Batch 1100 Frame 8800 Avg_dis:0.14768053404986858\n",
      "Train time 00h 07m 24s Epoch 1 Batch 1125 Frame 9000 Avg_dis:0.09799778740853071\n",
      "Train time 00h 07m 34s Epoch 1 Batch 1150 Frame 9200 Avg_dis:0.14396534115076065\n",
      "Train time 00h 07m 44s Epoch 1 Batch 1175 Frame 9400 Avg_dis:0.1816758206114173\n",
      "Train time 00h 07m 54s Epoch 1 Batch 1200 Frame 9600 Avg_dis:0.12202784698456526\n",
      "Train time 00h 08m 04s Epoch 1 Batch 1225 Frame 9800 Avg_dis:0.16769721638411283\n",
      "Train time 00h 08m 13s Epoch 1 Batch 1250 Frame 10000 Avg_dis:0.1268653953447938\n",
      "Train time 00h 08m 24s Epoch 1 Batch 1275 Frame 10200 Avg_dis:0.13702279049903154\n",
      "Train time 00h 08m 33s Epoch 1 Batch 1300 Frame 10400 Avg_dis:0.08927830588072538\n",
      "Train time 00h 08m 43s Epoch 1 Batch 1325 Frame 10600 Avg_dis:0.141375829000026\n",
      "Train time 00h 08m 53s Epoch 1 Batch 1350 Frame 10800 Avg_dis:0.1790655697695911\n",
      "Train time 00h 09m 03s Epoch 1 Batch 1375 Frame 11000 Avg_dis:0.15817800117656589\n",
      "Train time 00h 09m 13s Epoch 1 Batch 1400 Frame 11200 Avg_dis:0.17664632946252823\n",
      "Train time 00h 09m 23s Epoch 1 Batch 1425 Frame 11400 Avg_dis:0.1808205684646964\n",
      "Train time 00h 09m 32s Epoch 1 Batch 1450 Frame 11600 Avg_dis:0.13894351734779775\n",
      "Train time 00h 09m 42s Epoch 1 Batch 1475 Frame 11800 Avg_dis:0.14329630602151155\n",
      "Train time 00h 09m 52s Epoch 1 Batch 1500 Frame 12000 Avg_dis:0.19611767632886767\n",
      "Train time 00h 10m 02s Epoch 1 Batch 1525 Frame 12200 Avg_dis:0.15905057080090046\n",
      "Train time 00h 10m 12s Epoch 1 Batch 1550 Frame 12400 Avg_dis:0.19497731048613787\n",
      "Train time 00h 10m 22s Epoch 1 Batch 1575 Frame 12600 Avg_dis:0.14822559524327517\n",
      "Train time 00h 10m 31s Epoch 1 Batch 1600 Frame 12800 Avg_dis:0.17233928618952632\n"
     ]
    },
    {
     "ename": "KeyboardInterrupt",
     "evalue": "",
     "output_type": "error",
     "traceback": [
      "\u001b[0;31m---------------------------------------------------------------------------\u001b[0m",
      "\u001b[0;31mKeyboardInterrupt\u001b[0m                         Traceback (most recent call last)",
      "\u001b[0;32m<ipython-input-81-0dc2193c0ca4>\u001b[0m in \u001b[0;36m<module>\u001b[0;34m\u001b[0m\n\u001b[1;32m     38\u001b[0m                                                           \u001b[0mpoints\u001b[0m\u001b[0;34m,\u001b[0m\u001b[0;34m\u001b[0m\u001b[0;34m\u001b[0m\u001b[0m\n\u001b[1;32m     39\u001b[0m                                                           w, refine_start)\n\u001b[0;32m---> 40\u001b[0;31m             \u001b[0mloss\u001b[0m\u001b[0;34m.\u001b[0m\u001b[0mbackward\u001b[0m\u001b[0;34m(\u001b[0m\u001b[0;34m)\u001b[0m\u001b[0;34m\u001b[0m\u001b[0;34m\u001b[0m\u001b[0m\n\u001b[0m\u001b[1;32m     41\u001b[0m \u001b[0;34m\u001b[0m\u001b[0m\n\u001b[1;32m     42\u001b[0m             \u001b[0mtrain_dis_avg\u001b[0m \u001b[0;34m+=\u001b[0m \u001b[0mdis\u001b[0m\u001b[0;34m.\u001b[0m\u001b[0mitem\u001b[0m\u001b[0;34m(\u001b[0m\u001b[0;34m)\u001b[0m\u001b[0;34m\u001b[0m\u001b[0;34m\u001b[0m\u001b[0m\n",
      "\u001b[0;32m~/.conda/envs/visual/lib/python3.6/site-packages/torch/tensor.py\u001b[0m in \u001b[0;36mbackward\u001b[0;34m(self, gradient, retain_graph, create_graph)\u001b[0m\n\u001b[1;32m    116\u001b[0m                 \u001b[0mproducts\u001b[0m\u001b[0;34m.\u001b[0m \u001b[0mDefaults\u001b[0m \u001b[0mto\u001b[0m\u001b[0;31m \u001b[0m\u001b[0;31m`\u001b[0m\u001b[0;31m`\u001b[0m\u001b[0;32mFalse\u001b[0m\u001b[0;31m`\u001b[0m\u001b[0;31m`\u001b[0m\u001b[0;34m.\u001b[0m\u001b[0;34m\u001b[0m\u001b[0;34m\u001b[0m\u001b[0m\n\u001b[1;32m    117\u001b[0m         \"\"\"\n\u001b[0;32m--> 118\u001b[0;31m         \u001b[0mtorch\u001b[0m\u001b[0;34m.\u001b[0m\u001b[0mautograd\u001b[0m\u001b[0;34m.\u001b[0m\u001b[0mbackward\u001b[0m\u001b[0;34m(\u001b[0m\u001b[0mself\u001b[0m\u001b[0;34m,\u001b[0m \u001b[0mgradient\u001b[0m\u001b[0;34m,\u001b[0m \u001b[0mretain_graph\u001b[0m\u001b[0;34m,\u001b[0m \u001b[0mcreate_graph\u001b[0m\u001b[0;34m)\u001b[0m\u001b[0;34m\u001b[0m\u001b[0;34m\u001b[0m\u001b[0m\n\u001b[0m\u001b[1;32m    119\u001b[0m \u001b[0;34m\u001b[0m\u001b[0m\n\u001b[1;32m    120\u001b[0m     \u001b[0;32mdef\u001b[0m \u001b[0mregister_hook\u001b[0m\u001b[0;34m(\u001b[0m\u001b[0mself\u001b[0m\u001b[0;34m,\u001b[0m \u001b[0mhook\u001b[0m\u001b[0;34m)\u001b[0m\u001b[0;34m:\u001b[0m\u001b[0;34m\u001b[0m\u001b[0;34m\u001b[0m\u001b[0m\n",
      "\u001b[0;32m~/.conda/envs/visual/lib/python3.6/site-packages/torch/autograd/__init__.py\u001b[0m in \u001b[0;36mbackward\u001b[0;34m(tensors, grad_tensors, retain_graph, create_graph, grad_variables)\u001b[0m\n\u001b[1;32m     91\u001b[0m     Variable._execution_engine.run_backward(\n\u001b[1;32m     92\u001b[0m         \u001b[0mtensors\u001b[0m\u001b[0;34m,\u001b[0m \u001b[0mgrad_tensors\u001b[0m\u001b[0;34m,\u001b[0m \u001b[0mretain_graph\u001b[0m\u001b[0;34m,\u001b[0m \u001b[0mcreate_graph\u001b[0m\u001b[0;34m,\u001b[0m\u001b[0;34m\u001b[0m\u001b[0;34m\u001b[0m\u001b[0m\n\u001b[0;32m---> 93\u001b[0;31m         allow_unreachable=True)  # allow_unreachable flag\n\u001b[0m\u001b[1;32m     94\u001b[0m \u001b[0;34m\u001b[0m\u001b[0m\n\u001b[1;32m     95\u001b[0m \u001b[0;34m\u001b[0m\u001b[0m\n",
      "\u001b[0;31mKeyboardInterrupt\u001b[0m: "
     ]
    }
   ],
   "source": [
    "best_test = np.Inf\n",
    "print_every = 50\n",
    "\n",
    "if start_epoch == 1:\n",
    "    for log in os.listdir(log_dir):\n",
    "        if '.ipyn' not in log:\n",
    "            os.remove(os.path.join(log_dir, log))\n",
    "st_time = time.time()\n",
    "\n",
    "for epoch in range(start_epoch, nepoch):\n",
    "    logger = setup_logger('epoch%d' % epoch, os.path.join(log_dir, 'epoch_%d_log.txt' % epoch))\n",
    "    mess = 'Train time {0}'.format(time.strftime(\"%Hh %Mm %Ss\", time.gmtime(time.time() - st_time)) + ', ' + 'Training started')\n",
    "    print(mess)\n",
    "    logger.info(mess)\n",
    "    \n",
    "    train_count = 0\n",
    "    train_dis_avg = 0.0\n",
    "    \n",
    "    estimator.train()\n",
    "    optimizer.zero_grad()\n",
    "\n",
    "    for rep in range(repeat_epoch):\n",
    "        for i, data in enumerate(dataloader, 0):\n",
    "            points, choose, img, target, model_points, idx = data            \n",
    "            points, choose, img, target, model_points, idx = Variable(points).cuda(), \\\n",
    "                                                             Variable(choose).cuda(), \\\n",
    "                                                             Variable(img).cuda(), \\\n",
    "                                                             Variable(target).cuda(), \\\n",
    "                                                             Variable(model_points).cuda(), \\\n",
    "                                                             Variable(idx).cuda()\n",
    "            pred_r, pred_t, pred_c, emb = estimator(img, choose, idx)\n",
    "            loss, dis, new_points, new_target = criterion(pred_r, \n",
    "                                                          pred_t, \n",
    "                                                          pred_c, \n",
    "                                                          target, \n",
    "                                                          model_points, \n",
    "                                                          idx, \n",
    "                                                          points, \n",
    "                                                          w, refine_start)\n",
    "            loss.backward()\n",
    "            \n",
    "            train_dis_avg += dis.item()\n",
    "            train_count += 1\n",
    "            if train_count % batch_size == 0:\n",
    "                \n",
    "                mess = 'Train time {0} Epoch {1} Batch {2} Frame {3} Avg_dis:{4}'.format(\n",
    "                        time.strftime(\"%Hh %Mm %Ss\", time.gmtime(time.time() - st_time)), \n",
    "                        epoch, int(train_count / batch_size), \n",
    "                        train_count, \n",
    "                        train_dis_avg / batch_size)\n",
    "                logger.info(mess)\n",
    "                \n",
    "                optimizer.step()\n",
    "                optimizer.zero_grad()\n",
    "                train_dis_avg = 0\n",
    "                \n",
    "                \n",
    "                if train_count % print_every == 0:\n",
    "                    print(mess)\n",
    "            \n",
    "            if train_count != 0 and train_count % 500 == 0:                    \n",
    "                torch.save(estimator.state_dict(), '{0}/pose_model_current.pth'.format(outf))\n",
    "            \n",
    "    print('>>>>>>>>----------epoch {0} train finish---------<<<<<<<<'.format(epoch))\n",
    "    \n",
    "    test_dis = 0.0\n",
    "    test_count = 0\n",
    "    estimator.eval()\n",
    "    \n",
    "    for j, data in enumerate(testdataloader, 0):\n",
    "        points, choose, img, target, model_points, idx = data\n",
    "        points, choose, img, target, model_points, idx = Variable(points).cuda(), \\\n",
    "                                                         Variable(choose).cuda(), \\\n",
    "                                                         Variable(img).cuda(), \\\n",
    "                                                         Variable(target).cuda(), \\\n",
    "                                                         Variable(model_points).cuda(), \\\n",
    "                                                         Variable(idx).cuda()\n",
    "        pred_r, pred_t, pred_c, emb = estimator(img, choose, idx)\n",
    "        _, dis, new_points, new_target = criterion(pred_r, pred_t, pred_c, \n",
    "                                                   target, \n",
    "                                                   model_points, idx, points, \n",
    "                                                   w, refine_start)\n",
    "        test_dis += dis.item()\n",
    "        mess = 'Test time {0} Test Frame No.{1} dis:{2}'.format(time.strftime(\"%Hh %Mm %Ss\", time.gmtime(time.time() - st_time)), test_count, dis)\n",
    "        logger.info(mess)\n",
    "        \n",
    "        test_count += 1\n",
    "    test_dis = test_dis / test_count\n",
    "    mess = 'Test time {0} Epoch {1} TEST FINISH Avg dis: {2}'.format(time.strftime(\"%Hh %Mm %Ss\", time.gmtime(time.time() - st_time)), epoch, test_dis)\n",
    "    print(mess)\n",
    "    logger.info(mess)\n",
    "    \n",
    "    if test_dis <= best_test:\n",
    "        best_test = test_dis\n",
    "        torch.save(estimator.state_dict(), '{0}/pose_model_{1}_{2}.pth'.format(outf, epoch, test_dis))\n",
    "        print(epoch, '>>>>>>>>----------BEST TEST MODEL SAVED---------<<<<<<<<')\n",
    "        \n",
    "    if best_test < decay_margin and not decay_start:\n",
    "        decay_start = True\n",
    "        lr *= lr_rate\n",
    "        w *= w_rate\n",
    "        optimizer = optim.Adam(estimator.parameters(), lr=lr)"
   ]
  },
  {
   "cell_type": "code",
   "execution_count": 20,
   "metadata": {},
   "outputs": [],
   "source": [
    "t = next(iter(dataloader))"
   ]
  },
  {
   "cell_type": "code",
   "execution_count": 21,
   "metadata": {},
   "outputs": [],
   "source": [
    "points, choose, img, target, model_points, idx = t"
   ]
  },
  {
   "cell_type": "code",
   "execution_count": 22,
   "metadata": {},
   "outputs": [
    {
     "data": {
      "text/plain": [
       "torch.Size([1, 500, 3])"
      ]
     },
     "execution_count": 22,
     "metadata": {},
     "output_type": "execute_result"
    }
   ],
   "source": [
    "points.shape"
   ]
  },
  {
   "cell_type": "code",
   "execution_count": 23,
   "metadata": {},
   "outputs": [
    {
     "data": {
      "text/plain": [
       "torch.Size([1, 500, 3])"
      ]
     },
     "execution_count": 23,
     "metadata": {},
     "output_type": "execute_result"
    }
   ],
   "source": [
    "target.shape"
   ]
  },
  {
   "cell_type": "code",
   "execution_count": 24,
   "metadata": {},
   "outputs": [
    {
     "data": {
      "text/plain": [
       "torch.Size([1, 1, 500])"
      ]
     },
     "execution_count": 24,
     "metadata": {},
     "output_type": "execute_result"
    }
   ],
   "source": [
    "choose.shape"
   ]
  },
  {
   "cell_type": "code",
   "execution_count": 28,
   "metadata": {},
   "outputs": [
    {
     "data": {
      "text/plain": [
       "torch.Size([1, 500, 3])"
      ]
     },
     "execution_count": 28,
     "metadata": {},
     "output_type": "execute_result"
    }
   ],
   "source": [
    "model_points.shape"
   ]
  },
  {
   "cell_type": "code",
   "execution_count": 29,
   "metadata": {},
   "outputs": [
    {
     "data": {
      "text/plain": [
       "tensor([[[-0.0658, -0.0487,  0.0008],\n",
       "         [-0.0638, -0.0188,  0.0085],\n",
       "         [-0.0629, -0.0243,  0.0079],\n",
       "         ...,\n",
       "         [-0.0101,  0.0565, -0.0162],\n",
       "         [-0.0658,  0.0009,  0.0301],\n",
       "         [ 0.0184,  0.0379,  0.0174]]])"
      ]
     },
     "execution_count": 29,
     "metadata": {},
     "output_type": "execute_result"
    }
   ],
   "source": [
    "model_points"
   ]
  },
  {
   "cell_type": "code",
   "execution_count": 26,
   "metadata": {},
   "outputs": [
    {
     "data": {
      "text/plain": [
       "torch.Size([1, 3, 120, 120])"
      ]
     },
     "execution_count": 26,
     "metadata": {},
     "output_type": "execute_result"
    }
   ],
   "source": [
    "img.shape"
   ]
  },
  {
   "cell_type": "code",
   "execution_count": 27,
   "metadata": {},
   "outputs": [
    {
     "data": {
      "text/plain": [
       "tensor([[[ 1409,  1490,  1495,  1528,  1530,  1638,  1646,  1756,  1770,  1771,\n",
       "           1855,  1879,  1882,  1885,  1965,  2001,  2016,  2089,  2094,  2098,\n",
       "           2103,  2105,  2121,  2122,  2134,  2186,  2199,  2200,  2223,  2227,\n",
       "           2235,  2238,  2240,  2249,  2314,  2325,  2340,  2352,  2362,  2373,\n",
       "           2425,  2432,  2438,  2452,  2454,  2457,  2474,  2497,  2575,  2583,\n",
       "           2591,  2607,  2618,  2665,  2674,  2691,  2696,  2712,  2784,  2785,\n",
       "           2797,  2826,  2852,  2906,  2921,  2924,  2949,  2973,  3022,  3032,\n",
       "           3046,  3052,  3070,  3078,  3080,  3097,  3142,  3145,  3146,  3147,\n",
       "           3155,  3159,  3162,  3182,  3201,  3203,  3204,  3219,  3257,  3269,\n",
       "           3275,  3280,  3292,  3305,  3313,  3319,  3320,  3324,  3329,  3330,\n",
       "           3340,  3342,  3397,  3408,  3412,  3437,  3448,  3455,  3522,  3523,\n",
       "           3526,  3536,  3539,  3541,  3542,  3545,  3548,  3561,  3582,  3622,\n",
       "           3625,  3628,  3638,  3663,  3679,  3686,  3692,  3703,  3733,  3744,\n",
       "           3764,  3771,  3793,  3802,  3805,  3809,  3908,  3911,  3922,  3931,\n",
       "           3972,  3983,  3989,  4010,  4012,  4042,  4047,  4061,  4094,  4097,\n",
       "           4116,  4139,  4144,  4155,  4158,  4164,  4174,  4214,  4228,  4230,\n",
       "           4232,  4251,  4265,  4277,  4278,  4281,  4283,  4293,  4296,  4340,\n",
       "           4351,  4384,  4392,  4413,  4453,  4460,  4463,  4488,  4489,  4521,\n",
       "           4522,  4530,  4535,  4543,  4545,  4581,  4590,  4591,  4592,  4602,\n",
       "           4611,  4613,  4615,  4619,  4635,  4642,  4694,  4718,  4738,  4776,\n",
       "           4777,  4782,  4846,  4888,  4891,  4943,  4970,  4974,  5012,  5089,\n",
       "           5111,  5118,  5121,  5124,  5144,  5199,  5215,  5233,  5308,  5332,\n",
       "           5334,  5336,  5340,  5369,  5381,  5415,  5426,  5431,  5432,  5440,\n",
       "           5448,  5459,  5485,  5503,  5538,  5539,  5556,  5561,  5567,  5569,\n",
       "           5574,  5580,  5589,  5603,  5656,  5669,  5684,  5687,  5694,  5702,\n",
       "           5712,  5721,  5726,  5729,  5778,  5800,  5801,  5809,  5826,  5841,\n",
       "           5850,  5853,  5911,  5914,  5925,  5929,  5931,  5947,  5952,  6028,\n",
       "           6036,  6039,  6069,  6171,  6177,  6195,  6197,  6201,  6205,  6210,\n",
       "           6264,  6287,  6302,  6313,  6316,  6386,  6416,  6422,  6437,  6439,\n",
       "           6441,  6442,  6515,  6528,  6530,  6562,  6568,  6627,  6668,  6673,\n",
       "           6679,  6754,  6774,  6783,  6803,  6868,  6870,  6886,  6888,  6893,\n",
       "           6985,  6987,  6991,  6994,  7000,  7007,  7008,  7011,  7020,  7039,\n",
       "           7107,  7131,  7227,  7239,  7240,  7246,  7254,  7261,  7263,  7353,\n",
       "           7362,  7363,  7389,  7466,  7470,  7485,  7503,  7591,  7597,  7605,\n",
       "           7627,  7702,  7716,  7728,  7743,  7823,  7837,  7863,  8067,  8091,\n",
       "           8114,  8193,  8214,  8228,  8230,  8318,  8330,  8341,  8444,  8454,\n",
       "           8466,  8469,  8471,  8473,  8549,  8568,  8666,  8671,  8703,  8710,\n",
       "           8714,  8792,  8795,  8803,  8816,  8821,  8822,  8836,  8908,  8924,\n",
       "           8936,  8942,  8948,  8952,  9045,  9049,  9051,  9147,  9152,  9165,\n",
       "           9179,  9191,  9193,  9277,  9287,  9299,  9305,  9312,  9319,  9400,\n",
       "           9420,  9434,  9436,  9439,  9509,  9534,  9535,  9540,  9555,  9641,\n",
       "           9647,  9754,  9762,  9767,  9793,  9796,  9798,  9800,  9877,  9895,\n",
       "           9918,  9920,  9992, 10041, 10114, 10136, 10146, 10152, 10158, 10245,\n",
       "          10368, 10380, 10382, 10392, 10395, 10396, 10399, 10400, 10477, 10483,\n",
       "          10486, 10503, 10512, 10519, 10596, 10612, 10618, 10620, 10626, 10633,\n",
       "          10636, 10712, 10715, 10716, 10717, 10724, 10743, 10833, 10837, 10855,\n",
       "          10863, 10869, 10873, 11110, 11117, 11224, 11234, 11316, 11329, 11340,\n",
       "          11437, 11439, 11462, 11478, 11573, 11588, 11589, 11708, 11709, 11712,\n",
       "          11715, 11814, 11827, 12039, 12053, 12176, 12282, 12285, 12400, 12401,\n",
       "          12403, 12426, 12520, 12537, 12542, 12653, 12777, 12894, 13005, 13126]]])"
      ]
     },
     "execution_count": 27,
     "metadata": {},
     "output_type": "execute_result"
    }
   ],
   "source": [
    "choose"
   ]
  },
  {
   "cell_type": "code",
   "execution_count": null,
   "metadata": {},
   "outputs": [],
   "source": []
  }
 ],
 "metadata": {
  "kernelspec": {
   "display_name": "recvis",
   "language": "python",
   "name": "recvis"
  },
  "language_info": {
   "codemirror_mode": {
    "name": "ipython",
    "version": 3
   },
   "file_extension": ".py",
   "mimetype": "text/x-python",
   "name": "python",
   "nbconvert_exporter": "python",
   "pygments_lexer": "ipython3",
   "version": "3.6.9"
  }
 },
 "nbformat": 4,
 "nbformat_minor": 4
}
