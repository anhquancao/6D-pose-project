{
 "cells": [
  {
   "cell_type": "code",
   "execution_count": 1,
   "metadata": {},
   "outputs": [],
   "source": [
    "from lib.network import PoseNet, PoseRefineNet\n",
    "from lib.loss import Loss\n",
    "from lib.loss_refiner import Loss_refine\n",
    "from lib.utils import setup_logger\n",
    "from datasets.linemod.dataset import PoseDataset as PoseDataset_linemod\n",
    "import torch\n",
    "import os\n",
    "from torch import optim\n",
    "import numpy as np\n",
    "import time\n",
    "from torch.autograd import Variable\n",
    "%load_ext autoreload\n",
    "%autoreload 2\n"
   ]
  },
  {
   "cell_type": "code",
   "execution_count": 2,
   "metadata": {},
   "outputs": [],
   "source": [
    "import warnings\n",
    "warnings.filterwarnings(\"ignore\", category=UserWarning) "
   ]
  },
  {
   "cell_type": "code",
   "execution_count": 3,
   "metadata": {},
   "outputs": [],
   "source": [
    "num_objects = 5\n",
    "num_points = 500\n",
    "outf = 'trained_models/linemod'\n",
    "log_dir = 'experiments/logs/linemod'\n",
    "repeat_epoch = 20\n",
    "decay_margin = 0.016\n",
    "decay_start = False\n",
    "lr_rate = 0.3\n",
    "w_rate = 0.3"
   ]
  },
  {
   "cell_type": "code",
   "execution_count": 4,
   "metadata": {},
   "outputs": [],
   "source": [
    "estimator = PoseNet(num_points = num_points, num_obj = num_objects)\n",
    "estimator.cuda();"
   ]
  },
  {
   "cell_type": "code",
   "execution_count": 5,
   "metadata": {},
   "outputs": [],
   "source": [
    "lr = 0.0001\n",
    "\n",
    "optimizer = optim.Adam(estimator.parameters(), lr=lr)"
   ]
  },
  {
   "cell_type": "code",
   "execution_count": 6,
   "metadata": {},
   "outputs": [
    {
     "name": "stderr",
     "output_type": "stream",
     "text": [
      "/home/aquancva/DenseFusion/datasets/linemod/dataset.py:66: YAMLLoadWarning: calling yaml.load() without Loader=... is deprecated, as the default Loader is unsafe. Please read https://msg.pyyaml.org/load for full details.\n",
      "  self.meta[item] = yaml.load(meta_file)\n"
     ]
    },
    {
     "name": "stdout",
     "output_type": "stream",
     "text": [
      "Object 2 buffer loaded\n",
      "Object 4 buffer loaded\n",
      "Object 5 buffer loaded\n",
      "Object 6 buffer loaded\n",
      "Object 8 buffer loaded\n"
     ]
    }
   ],
   "source": [
    "dataset_root = \"./datasets/linemod/Linemod_preprocessed\"\n",
    "noise_trans = 0.03\n",
    "refine_start = False\n",
    "decay_start = False\n",
    "\n",
    "\n",
    "dataset = PoseDataset_linemod('train', \n",
    "                              num_points, \n",
    "                              True, \n",
    "                              dataset_root, \n",
    "                              noise_trans, \n",
    "                              refine_start)\n",
    "\n",
    "workers = 4\n",
    "dataloader = torch.utils.data.DataLoader(dataset, \n",
    "                                         batch_size=1, \n",
    "                                         shuffle=True, \n",
    "                                         num_workers=workers)"
   ]
  },
  {
   "cell_type": "code",
   "execution_count": 7,
   "metadata": {},
   "outputs": [
    {
     "name": "stdout",
     "output_type": "stream",
     "text": [
      "Object 2 buffer loaded\n",
      "Object 4 buffer loaded\n",
      "Object 5 buffer loaded\n",
      "Object 6 buffer loaded\n",
      "Object 8 buffer loaded\n"
     ]
    }
   ],
   "source": [
    "test_dataset = PoseDataset_linemod('test', \n",
    "                                   num_points, \n",
    "                                   False, \n",
    "                                   dataset_root, \n",
    "                                   0.0, \n",
    "                                   refine_start)\n",
    "testdataloader = torch.utils.data.DataLoader(test_dataset, \n",
    "                                             batch_size=1, \n",
    "                                             shuffle=False, \n",
    "                                             num_workers=workers)"
   ]
  },
  {
   "cell_type": "code",
   "execution_count": 8,
   "metadata": {},
   "outputs": [],
   "source": [
    "sym_list = dataset.get_sym_list()\n",
    "num_points_mesh = dataset.get_num_points_mesh()"
   ]
  },
  {
   "cell_type": "code",
   "execution_count": 9,
   "metadata": {},
   "outputs": [
    {
     "name": "stdout",
     "output_type": "stream",
     "text": [
      ">>>>>>>>----------Dataset loaded!---------<<<<<<<<\n",
      "length of the training set: 898\n",
      "length of the testing set: 506\n",
      "number of sample points on mesh: 500\n",
      "symmetry object list: [8]\n"
     ]
    }
   ],
   "source": [
    "print('>>>>>>>>----------Dataset loaded!---------<<<<<<<<\\nlength of the training set: {0}\\nlength of the testing set: {1}\\nnumber of sample points on mesh: {2}\\nsymmetry object list: {3}'\n",
    "      .format(len(dataset), \n",
    "              len(test_dataset), \n",
    "              num_points_mesh, \n",
    "              sym_list))"
   ]
  },
  {
   "cell_type": "code",
   "execution_count": 10,
   "metadata": {},
   "outputs": [],
   "source": [
    "criterion = Loss(num_points_mesh, sym_list)"
   ]
  },
  {
   "cell_type": "code",
   "execution_count": 25,
   "metadata": {},
   "outputs": [],
   "source": [
    "start_epoch = 10\n",
    "nepoch = 20\n",
    "w = 0.015\n",
    "batch_size = 8"
   ]
  },
  {
   "cell_type": "code",
   "execution_count": 26,
   "metadata": {},
   "outputs": [
    {
     "data": {
      "text/plain": [
       "torch.Size([1, 1, 500])"
      ]
     },
     "execution_count": 26,
     "metadata": {},
     "output_type": "execute_result"
    }
   ],
   "source": [
    "next(iter(dataloader))[1].shape"
   ]
  },
  {
   "cell_type": "code",
   "execution_count": null,
   "metadata": {},
   "outputs": [],
   "source": []
  },
  {
   "cell_type": "code",
   "execution_count": null,
   "metadata": {},
   "outputs": [],
   "source": [
    "best_test = np.Inf\n",
    "print_every = 50\n",
    "\n",
    "if start_epoch == 1:\n",
    "    for log in os.listdir(log_dir):\n",
    "        if '.ipyn' not in log:\n",
    "            os.remove(os.path.join(log_dir, log))\n",
    "st_time = time.time()\n",
    "\n",
    "for epoch in range(start_epoch, nepoch):\n",
    "    logger = setup_logger('epoch%d' % epoch, os.path.join(log_dir, 'epoch_%d_log.txt' % epoch))\n",
    "    mess = 'Train time {0}'.format(time.strftime(\"%Hh %Mm %Ss\", time.gmtime(time.time() - st_time)) + ', ' + 'Training started')\n",
    "    print(mess)\n",
    "    logger.info(mess)\n",
    "    \n",
    "    train_count = 0\n",
    "    train_dis_avg = 0.0\n",
    "    \n",
    "    estimator.train()\n",
    "    optimizer.zero_grad()\n",
    "\n",
    "    for rep in range(repeat_epoch):\n",
    "        for i, data in enumerate(dataloader, 0):\n",
    "            points, choose, img, target, model_points, idx = data            \n",
    "            points, choose, img, target, model_points, idx = Variable(points).cuda(), \\\n",
    "                                                             Variable(choose).cuda(), \\\n",
    "                                                             Variable(img).cuda(), \\\n",
    "                                                             Variable(target).cuda(), \\\n",
    "                                                             Variable(model_points).cuda(), \\\n",
    "                                                             Variable(idx).cuda()\n",
    "            pred_r, pred_t, pred_c, emb = estimator(img, points, choose, idx)\n",
    "            loss, dis, new_points, new_target = criterion(pred_r, \n",
    "                                                          pred_t, \n",
    "                                                          pred_c, \n",
    "                                                          target, \n",
    "                                                          model_points, \n",
    "                                                          idx, \n",
    "                                                          points, \n",
    "                                                          w, refine_start)\n",
    "            loss.backward()\n",
    "            \n",
    "            train_dis_avg += dis.item()\n",
    "            train_count += 1\n",
    "            if train_count % batch_size == 0:\n",
    "                \n",
    "                mess = 'Train time {0} Epoch {1} Batch {2} Frame {3} Avg_dis:{4}'.format(\n",
    "                        time.strftime(\"%Hh %Mm %Ss\", time.gmtime(time.time() - st_time)), \n",
    "                        epoch, int(train_count / batch_size), \n",
    "                        train_count, \n",
    "                        train_dis_avg / batch_size)\n",
    "                logger.info(mess)\n",
    "                \n",
    "                optimizer.step()\n",
    "                optimizer.zero_grad()\n",
    "                train_dis_avg = 0\n",
    "                \n",
    "                \n",
    "                if train_count % print_every == 0:\n",
    "                    print(mess)\n",
    "            \n",
    "            if train_count != 0 and train_count % 500 == 0:                    \n",
    "                torch.save(estimator.state_dict(), '{0}/pose_model_current.pth'.format(outf))\n",
    "            \n",
    "    print('>>>>>>>>----------epoch {0} train finish---------<<<<<<<<'.format(epoch))\n",
    "    \n",
    "    test_dis = 0.0\n",
    "    test_count = 0\n",
    "    estimator.eval()\n",
    "    \n",
    "    for j, data in enumerate(testdataloader, 0):\n",
    "        points, choose, img, target, model_points, idx = data\n",
    "        points, choose, img, target, model_points, idx = Variable(points).cuda(), \\\n",
    "                                                         Variable(choose).cuda(), \\\n",
    "                                                         Variable(img).cuda(), \\\n",
    "                                                         Variable(target).cuda(), \\\n",
    "                                                         Variable(model_points).cuda(), \\\n",
    "                                                         Variable(idx).cuda()\n",
    "        pred_r, pred_t, pred_c, emb = estimator(img, points, choose, idx)\n",
    "        _, dis, new_points, new_target = criterion(pred_r, pred_t, pred_c, \n",
    "                                                   target, \n",
    "                                                   model_points, idx, points, \n",
    "                                                   w, refine_start)\n",
    "        test_dis += dis.item()\n",
    "        mess = 'Test time {0} Test Frame No.{1} dis:{2}'.format(time.strftime(\"%Hh %Mm %Ss\", time.gmtime(time.time() - st_time)), test_count, dis)\n",
    "        logger.info(mess)\n",
    "        \n",
    "        test_count += 1\n",
    "    test_dis = test_dis / test_count\n",
    "    mess = 'Test time {0} Epoch {1} TEST FINISH Avg dis: {2}'.format(time.strftime(\"%Hh %Mm %Ss\", time.gmtime(time.time() - st_time)), epoch, test_dis)\n",
    "    print(mess)\n",
    "    logger.info(mess)\n",
    "    \n",
    "    if test_dis <= best_test:\n",
    "        best_test = test_dis\n",
    "        torch.save(estimator.state_dict(), '{0}/pose_model_{1}_{2}.pth'.format(outf, epoch, test_dis))\n",
    "        print(epoch, '>>>>>>>>----------BEST TEST MODEL SAVED---------<<<<<<<<')\n",
    "        \n",
    "    if best_test < decay_margin and not decay_start:\n",
    "        decay_start = True\n",
    "        lr *= lr_rate\n",
    "        w *= w_rate\n",
    "        optimizer = optim.Adam(estimator.parameters(), lr=lr)"
   ]
  },
  {
   "cell_type": "code",
   "execution_count": null,
   "metadata": {},
   "outputs": [],
   "source": [
    "t = next(iter(dataloader))"
   ]
  },
  {
   "cell_type": "code",
   "execution_count": null,
   "metadata": {},
   "outputs": [],
   "source": [
    "points, choose, img, target, model_points, idx = t"
   ]
  },
  {
   "cell_type": "code",
   "execution_count": null,
   "metadata": {},
   "outputs": [],
   "source": [
    "points"
   ]
  },
  {
   "cell_type": "code",
   "execution_count": null,
   "metadata": {},
   "outputs": [],
   "source": [
    "target"
   ]
  },
  {
   "cell_type": "code",
   "execution_count": null,
   "metadata": {},
   "outputs": [],
   "source": []
  }
 ],
 "metadata": {
  "kernelspec": {
   "display_name": "recvis",
   "language": "python",
   "name": "recvis"
  },
  "language_info": {
   "codemirror_mode": {
    "name": "ipython",
    "version": 3
   },
   "file_extension": ".py",
   "mimetype": "text/x-python",
   "name": "python",
   "nbconvert_exporter": "python",
   "pygments_lexer": "ipython3",
   "version": "3.6.9"
  }
 },
 "nbformat": 4,
 "nbformat_minor": 4
}
