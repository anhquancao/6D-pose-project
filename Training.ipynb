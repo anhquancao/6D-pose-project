{
 "cells": [
  {
   "cell_type": "code",
   "execution_count": 1,
   "metadata": {},
   "outputs": [],
   "source": [
    "from lib.network import PoseNet, PoseRefineNet\n",
    "from lib.loss import Loss\n",
    "from lib.utils import setup_logger\n",
    "from datasets.linemod.dataset import PoseDataset as PoseDataset_linemod\n",
    "import torch\n",
    "import os\n",
    "from torch import optim\n",
    "import numpy as np\n",
    "import time\n",
    "from torch.autograd import Variable\n",
    "%load_ext autoreload\n",
    "%autoreload 2\n"
   ]
  },
  {
   "cell_type": "code",
   "execution_count": 2,
   "metadata": {},
   "outputs": [],
   "source": [
    "import warnings\n",
    "warnings.filterwarnings(\"ignore\", category=UserWarning) "
   ]
  },
  {
   "cell_type": "code",
   "execution_count": 3,
   "metadata": {},
   "outputs": [],
   "source": [
    "num_objects = 5\n",
    "num_points = 500\n",
    "outf = 'trained_models/linemod'\n",
    "log_dir = 'experiments/logs/linemod'\n",
    "repeat_epoch = 20\n",
    "decay_margin = 0.016\n",
    "decay_start = False\n",
    "lr_rate = 0.3\n",
    "w_rate = 0.3"
   ]
  },
  {
   "cell_type": "code",
   "execution_count": 4,
   "metadata": {},
   "outputs": [],
   "source": [
    "estimator = PoseNet(num_points = num_points, num_obj = num_objects)\n",
    "estimator.cuda();"
   ]
  },
  {
   "cell_type": "code",
   "execution_count": 5,
   "metadata": {},
   "outputs": [],
   "source": [
    "lr = 0.0001\n",
    "\n",
    "optimizer = optim.Adam(estimator.parameters(), lr=lr)"
   ]
  },
  {
   "cell_type": "code",
   "execution_count": 6,
   "metadata": {},
   "outputs": [
    {
     "name": "stderr",
     "output_type": "stream",
     "text": [
      "/home/aquancva/DenseFusion/datasets/linemod/dataset.py:66: YAMLLoadWarning: calling yaml.load() without Loader=... is deprecated, as the default Loader is unsafe. Please read https://msg.pyyaml.org/load for full details.\n",
      "  self.meta[item] = yaml.load(meta_file)\n"
     ]
    },
    {
     "name": "stdout",
     "output_type": "stream",
     "text": [
      "Object 2 buffer loaded\n",
      "Object 4 buffer loaded\n",
      "Object 5 buffer loaded\n",
      "Object 10 buffer loaded\n",
      "Object 11 buffer loaded\n"
     ]
    }
   ],
   "source": [
    "dataset_root = \"./datasets/linemod/Linemod_preprocessed\"\n",
    "noise_trans = 0.03\n",
    "refine_start = False\n",
    "decay_start = False\n",
    "\n",
    "\n",
    "dataset = PoseDataset_linemod('train', \n",
    "                              num_points, \n",
    "                              True, \n",
    "                              dataset_root, \n",
    "                              noise_trans, \n",
    "                              refine_start)\n",
    "\n",
    "workers = 4\n",
    "dataloader = torch.utils.data.DataLoader(dataset, \n",
    "                                         batch_size=1, \n",
    "                                         shuffle=True, \n",
    "                                         num_workers=workers)"
   ]
  },
  {
   "cell_type": "code",
   "execution_count": 7,
   "metadata": {},
   "outputs": [
    {
     "name": "stdout",
     "output_type": "stream",
     "text": [
      "Object 2 buffer loaded\n",
      "Object 4 buffer loaded\n",
      "Object 5 buffer loaded\n",
      "Object 10 buffer loaded\n",
      "Object 11 buffer loaded\n"
     ]
    }
   ],
   "source": [
    "test_dataset = PoseDataset_linemod('test', \n",
    "                                   num_points, \n",
    "                                   False, \n",
    "                                   dataset_root, \n",
    "                                   0.0, \n",
    "                                   refine_start)\n",
    "testdataloader = torch.utils.data.DataLoader(test_dataset, \n",
    "                                             batch_size=1, \n",
    "                                             shuffle=False, \n",
    "                                             num_workers=workers)"
   ]
  },
  {
   "cell_type": "code",
   "execution_count": 8,
   "metadata": {},
   "outputs": [],
   "source": [
    "sym_list = dataset.get_sym_list()\n",
    "num_points_mesh = dataset.get_num_points_mesh()"
   ]
  },
  {
   "cell_type": "code",
   "execution_count": 9,
   "metadata": {},
   "outputs": [
    {
     "name": "stdout",
     "output_type": "stream",
     "text": [
      ">>>>>>>>----------Dataset loaded!---------<<<<<<<<\n",
      "length of the training set: 914\n",
      "length of the testing set: 515\n",
      "number of sample points on mesh: 500\n",
      "symmetry object list: [3, 4]\n"
     ]
    }
   ],
   "source": [
    "print('>>>>>>>>----------Dataset loaded!---------<<<<<<<<\\nlength of the training set: {0}\\nlength of the testing set: {1}\\nnumber of sample points on mesh: {2}\\nsymmetry object list: {3}'\n",
    "      .format(len(dataset), \n",
    "              len(test_dataset), \n",
    "              num_points_mesh, \n",
    "              sym_list))"
   ]
  },
  {
   "cell_type": "code",
   "execution_count": 10,
   "metadata": {},
   "outputs": [],
   "source": [
    "criterion = Loss(num_points_mesh, sym_list)"
   ]
  },
  {
   "cell_type": "code",
   "execution_count": 11,
   "metadata": {},
   "outputs": [],
   "source": [
    "start_epoch = 0\n",
    "nepoch = 4\n",
    "w = 0.015\n",
    "batch_size = 8"
   ]
  },
  {
   "cell_type": "code",
   "execution_count": 12,
   "metadata": {},
   "outputs": [
    {
     "data": {
      "text/plain": [
       "torch.Size([1, 1, 500])"
      ]
     },
     "execution_count": 12,
     "metadata": {},
     "output_type": "execute_result"
    }
   ],
   "source": [
    "next(iter(dataloader))[1].shape"
   ]
  },
  {
   "cell_type": "code",
   "execution_count": 13,
   "metadata": {},
   "outputs": [
    {
     "name": "stdout",
     "output_type": "stream",
     "text": [
      "Train time 00h 00m 00s, Training started\n",
      "Train time 00h 00m 10s Epoch 0 Batch 25 Frame 200 Avg_dis:0.09846796281635761\n",
      "Train time 00h 00m 20s Epoch 0 Batch 50 Frame 400 Avg_dis:0.10915831755846739\n",
      "Train time 00h 00m 30s Epoch 0 Batch 75 Frame 600 Avg_dis:0.056348265963606536\n",
      "Train time 00h 00m 40s Epoch 0 Batch 100 Frame 800 Avg_dis:0.0650185199920088\n",
      "Train time 00h 00m 51s Epoch 0 Batch 125 Frame 1000 Avg_dis:0.10046472167596221\n",
      "Train time 00h 01m 01s Epoch 0 Batch 150 Frame 1200 Avg_dis:0.07848975597880781\n",
      "Train time 00h 01m 11s Epoch 0 Batch 175 Frame 1400 Avg_dis:0.06953310989774764\n",
      "Train time 00h 01m 21s Epoch 0 Batch 200 Frame 1600 Avg_dis:0.04715058021247387\n",
      "Train time 00h 01m 31s Epoch 0 Batch 225 Frame 1800 Avg_dis:0.04781088943127543\n",
      "Train time 00h 01m 42s Epoch 0 Batch 250 Frame 2000 Avg_dis:0.07396213919855654\n",
      "Train time 00h 01m 52s Epoch 0 Batch 275 Frame 2200 Avg_dis:0.03070801473222673\n",
      "Train time 00h 02m 02s Epoch 0 Batch 300 Frame 2400 Avg_dis:0.04866604146081954\n",
      "Train time 00h 02m 13s Epoch 0 Batch 325 Frame 2600 Avg_dis:0.05101322790142149\n",
      "Train time 00h 02m 23s Epoch 0 Batch 350 Frame 2800 Avg_dis:0.07125745352823287\n",
      "Train time 00h 02m 33s Epoch 0 Batch 375 Frame 3000 Avg_dis:0.046533890534192324\n",
      "Train time 00h 02m 44s Epoch 0 Batch 400 Frame 3200 Avg_dis:0.03468821267597377\n",
      "Train time 00h 02m 54s Epoch 0 Batch 425 Frame 3400 Avg_dis:0.032412468804977834\n",
      "Train time 00h 03m 04s Epoch 0 Batch 450 Frame 3600 Avg_dis:0.05375000671483576\n",
      "Train time 00h 03m 15s Epoch 0 Batch 475 Frame 3800 Avg_dis:0.04742985172197223\n",
      "Train time 00h 03m 25s Epoch 0 Batch 500 Frame 4000 Avg_dis:0.03965146001428366\n",
      "Train time 00h 03m 35s Epoch 0 Batch 525 Frame 4200 Avg_dis:0.04518503590952605\n",
      "Train time 00h 03m 45s Epoch 0 Batch 550 Frame 4400 Avg_dis:0.05838357761967927\n",
      "Train time 00h 03m 55s Epoch 0 Batch 575 Frame 4600 Avg_dis:0.052054363302886486\n",
      "Train time 00h 04m 06s Epoch 0 Batch 600 Frame 4800 Avg_dis:0.05825332587119192\n",
      "Train time 00h 04m 16s Epoch 0 Batch 625 Frame 5000 Avg_dis:0.05715898564085364\n",
      "Train time 00h 04m 26s Epoch 0 Batch 650 Frame 5200 Avg_dis:0.07335296471137553\n",
      "Train time 00h 04m 36s Epoch 0 Batch 675 Frame 5400 Avg_dis:0.054148007300682366\n",
      "Train time 00h 04m 47s Epoch 0 Batch 700 Frame 5600 Avg_dis:0.03663639456499368\n",
      "Train time 00h 04m 57s Epoch 0 Batch 725 Frame 5800 Avg_dis:0.04947892331983894\n",
      "Train time 00h 05m 07s Epoch 0 Batch 750 Frame 6000 Avg_dis:0.0461406767135486\n",
      "Train time 00h 05m 17s Epoch 0 Batch 775 Frame 6200 Avg_dis:0.05434856878127903\n",
      "Train time 00h 05m 28s Epoch 0 Batch 800 Frame 6400 Avg_dis:0.08298176992684603\n",
      "Train time 00h 05m 38s Epoch 0 Batch 825 Frame 6600 Avg_dis:0.04888043203391135\n",
      "Train time 00h 05m 48s Epoch 0 Batch 850 Frame 6800 Avg_dis:0.04061802139040083\n",
      "Train time 00h 05m 58s Epoch 0 Batch 875 Frame 7000 Avg_dis:0.04444236040581018\n",
      "Train time 00h 06m 09s Epoch 0 Batch 900 Frame 7200 Avg_dis:0.06128540844656527\n",
      "Train time 00h 06m 19s Epoch 0 Batch 925 Frame 7400 Avg_dis:0.07959433074574918\n",
      "Train time 00h 06m 29s Epoch 0 Batch 950 Frame 7600 Avg_dis:0.042901538661681116\n",
      "Train time 00h 06m 39s Epoch 0 Batch 975 Frame 7800 Avg_dis:0.03838208829984069\n",
      "Train time 00h 06m 50s Epoch 0 Batch 1000 Frame 8000 Avg_dis:0.034789138939231634\n",
      "Train time 00h 07m 00s Epoch 0 Batch 1025 Frame 8200 Avg_dis:0.04003980103880167\n",
      "Train time 00h 07m 10s Epoch 0 Batch 1050 Frame 8400 Avg_dis:0.02783005079254508\n",
      "Train time 00h 07m 20s Epoch 0 Batch 1075 Frame 8600 Avg_dis:0.046114398166537285\n",
      "Train time 00h 07m 31s Epoch 0 Batch 1100 Frame 8800 Avg_dis:0.06548248417675495\n",
      "Train time 00h 07m 41s Epoch 0 Batch 1125 Frame 9000 Avg_dis:0.04085111839231104\n",
      "Train time 00h 07m 51s Epoch 0 Batch 1150 Frame 9200 Avg_dis:0.03882951068226248\n",
      "Train time 00h 08m 01s Epoch 0 Batch 1175 Frame 9400 Avg_dis:0.04825055447872728\n",
      "Train time 00h 08m 12s Epoch 0 Batch 1200 Frame 9600 Avg_dis:0.03198498650453985\n",
      "Train time 00h 08m 22s Epoch 0 Batch 1225 Frame 9800 Avg_dis:0.05255109490826726\n",
      "Train time 00h 08m 32s Epoch 0 Batch 1250 Frame 10000 Avg_dis:0.05816811078693718\n",
      "Train time 00h 08m 42s Epoch 0 Batch 1275 Frame 10200 Avg_dis:0.04960069293156266\n",
      "Train time 00h 08m 52s Epoch 0 Batch 1300 Frame 10400 Avg_dis:0.0525807433295995\n",
      "Train time 00h 09m 03s Epoch 0 Batch 1325 Frame 10600 Avg_dis:0.038383783772587776\n",
      "Train time 00h 09m 13s Epoch 0 Batch 1350 Frame 10800 Avg_dis:0.039573741145431995\n",
      "Train time 00h 09m 23s Epoch 0 Batch 1375 Frame 11000 Avg_dis:0.031828660517930984\n",
      "Train time 00h 09m 34s Epoch 0 Batch 1400 Frame 11200 Avg_dis:0.0463206124259159\n",
      "Train time 00h 09m 44s Epoch 0 Batch 1425 Frame 11400 Avg_dis:0.040919421589933336\n",
      "Train time 00h 09m 54s Epoch 0 Batch 1450 Frame 11600 Avg_dis:0.034045318607240915\n",
      "Train time 00h 10m 04s Epoch 0 Batch 1475 Frame 11800 Avg_dis:0.03734680323395878\n",
      "Train time 00h 10m 15s Epoch 0 Batch 1500 Frame 12000 Avg_dis:0.04044195276219398\n",
      "Train time 00h 10m 25s Epoch 0 Batch 1525 Frame 12200 Avg_dis:0.05607579811476171\n",
      "Train time 00h 10m 35s Epoch 0 Batch 1550 Frame 12400 Avg_dis:0.0330875429790467\n",
      "Train time 00h 10m 45s Epoch 0 Batch 1575 Frame 12600 Avg_dis:0.0353544958634302\n",
      "Train time 00h 10m 56s Epoch 0 Batch 1600 Frame 12800 Avg_dis:0.032170218764804304\n",
      "Train time 00h 11m 06s Epoch 0 Batch 1625 Frame 13000 Avg_dis:0.03793894813861698\n",
      "Train time 00h 11m 16s Epoch 0 Batch 1650 Frame 13200 Avg_dis:0.034140103263780475\n",
      "Train time 00h 11m 26s Epoch 0 Batch 1675 Frame 13400 Avg_dis:0.04065135482233018\n",
      "Train time 00h 11m 36s Epoch 0 Batch 1700 Frame 13600 Avg_dis:0.022305309190414846\n",
      "Train time 00h 11m 47s Epoch 0 Batch 1725 Frame 13800 Avg_dis:0.03162984340451658\n"
     ]
    },
    {
     "ename": "KeyboardInterrupt",
     "evalue": "",
     "output_type": "error",
     "traceback": [
      "\u001b[0;31m---------------------------------------------------------------------------\u001b[0m",
      "\u001b[0;31mKeyboardInterrupt\u001b[0m                         Traceback (most recent call last)",
      "\u001b[0;32m<ipython-input-13-8019ca5c8995>\u001b[0m in \u001b[0;36m<module>\u001b[0;34m\u001b[0m\n\u001b[1;32m     37\u001b[0m                                                           \u001b[0midx\u001b[0m\u001b[0;34m,\u001b[0m\u001b[0;34m\u001b[0m\u001b[0;34m\u001b[0m\u001b[0m\n\u001b[1;32m     38\u001b[0m                                                           \u001b[0mpoints\u001b[0m\u001b[0;34m,\u001b[0m\u001b[0;34m\u001b[0m\u001b[0;34m\u001b[0m\u001b[0m\n\u001b[0;32m---> 39\u001b[0;31m                                                           w, refine_start)\n\u001b[0m\u001b[1;32m     40\u001b[0m             \u001b[0mloss\u001b[0m\u001b[0;34m.\u001b[0m\u001b[0mbackward\u001b[0m\u001b[0;34m(\u001b[0m\u001b[0;34m)\u001b[0m\u001b[0;34m\u001b[0m\u001b[0;34m\u001b[0m\u001b[0m\n\u001b[1;32m     41\u001b[0m \u001b[0;34m\u001b[0m\u001b[0m\n",
      "\u001b[0;32m~/.conda/envs/visual/lib/python3.6/site-packages/torch/nn/modules/module.py\u001b[0m in \u001b[0;36m__call__\u001b[0;34m(self, *input, **kwargs)\u001b[0m\n\u001b[1;32m    545\u001b[0m             \u001b[0mresult\u001b[0m \u001b[0;34m=\u001b[0m \u001b[0mself\u001b[0m\u001b[0;34m.\u001b[0m\u001b[0m_slow_forward\u001b[0m\u001b[0;34m(\u001b[0m\u001b[0;34m*\u001b[0m\u001b[0minput\u001b[0m\u001b[0;34m,\u001b[0m \u001b[0;34m**\u001b[0m\u001b[0mkwargs\u001b[0m\u001b[0;34m)\u001b[0m\u001b[0;34m\u001b[0m\u001b[0;34m\u001b[0m\u001b[0m\n\u001b[1;32m    546\u001b[0m         \u001b[0;32melse\u001b[0m\u001b[0;34m:\u001b[0m\u001b[0;34m\u001b[0m\u001b[0;34m\u001b[0m\u001b[0m\n\u001b[0;32m--> 547\u001b[0;31m             \u001b[0mresult\u001b[0m \u001b[0;34m=\u001b[0m \u001b[0mself\u001b[0m\u001b[0;34m.\u001b[0m\u001b[0mforward\u001b[0m\u001b[0;34m(\u001b[0m\u001b[0;34m*\u001b[0m\u001b[0minput\u001b[0m\u001b[0;34m,\u001b[0m \u001b[0;34m**\u001b[0m\u001b[0mkwargs\u001b[0m\u001b[0;34m)\u001b[0m\u001b[0;34m\u001b[0m\u001b[0;34m\u001b[0m\u001b[0m\n\u001b[0m\u001b[1;32m    548\u001b[0m         \u001b[0;32mfor\u001b[0m \u001b[0mhook\u001b[0m \u001b[0;32min\u001b[0m \u001b[0mself\u001b[0m\u001b[0;34m.\u001b[0m\u001b[0m_forward_hooks\u001b[0m\u001b[0;34m.\u001b[0m\u001b[0mvalues\u001b[0m\u001b[0;34m(\u001b[0m\u001b[0;34m)\u001b[0m\u001b[0;34m:\u001b[0m\u001b[0;34m\u001b[0m\u001b[0;34m\u001b[0m\u001b[0m\n\u001b[1;32m    549\u001b[0m             \u001b[0mhook_result\u001b[0m \u001b[0;34m=\u001b[0m \u001b[0mhook\u001b[0m\u001b[0;34m(\u001b[0m\u001b[0mself\u001b[0m\u001b[0;34m,\u001b[0m \u001b[0minput\u001b[0m\u001b[0;34m,\u001b[0m \u001b[0mresult\u001b[0m\u001b[0;34m)\u001b[0m\u001b[0;34m\u001b[0m\u001b[0;34m\u001b[0m\u001b[0m\n",
      "\u001b[0;32m~/DenseFusion/lib/loss.py\u001b[0m in \u001b[0;36mforward\u001b[0;34m(self, pred_r, pred_t, pred_c, target, model_points, idx, points, w, refine)\u001b[0m\n\u001b[1;32m     81\u001b[0m     \u001b[0;32mdef\u001b[0m \u001b[0mforward\u001b[0m\u001b[0;34m(\u001b[0m\u001b[0mself\u001b[0m\u001b[0;34m,\u001b[0m \u001b[0mpred_r\u001b[0m\u001b[0;34m,\u001b[0m \u001b[0mpred_t\u001b[0m\u001b[0;34m,\u001b[0m \u001b[0mpred_c\u001b[0m\u001b[0;34m,\u001b[0m \u001b[0mtarget\u001b[0m\u001b[0;34m,\u001b[0m \u001b[0mmodel_points\u001b[0m\u001b[0;34m,\u001b[0m \u001b[0midx\u001b[0m\u001b[0;34m,\u001b[0m \u001b[0mpoints\u001b[0m\u001b[0;34m,\u001b[0m \u001b[0mw\u001b[0m\u001b[0;34m,\u001b[0m \u001b[0mrefine\u001b[0m\u001b[0;34m)\u001b[0m\u001b[0;34m:\u001b[0m\u001b[0;34m\u001b[0m\u001b[0;34m\u001b[0m\u001b[0m\n\u001b[1;32m     82\u001b[0m \u001b[0;34m\u001b[0m\u001b[0m\n\u001b[0;32m---> 83\u001b[0;31m         \u001b[0;32mreturn\u001b[0m \u001b[0mloss_calculation\u001b[0m\u001b[0;34m(\u001b[0m\u001b[0mpred_r\u001b[0m\u001b[0;34m,\u001b[0m \u001b[0mpred_t\u001b[0m\u001b[0;34m,\u001b[0m \u001b[0mpred_c\u001b[0m\u001b[0;34m,\u001b[0m \u001b[0mtarget\u001b[0m\u001b[0;34m,\u001b[0m \u001b[0mmodel_points\u001b[0m\u001b[0;34m,\u001b[0m \u001b[0midx\u001b[0m\u001b[0;34m,\u001b[0m \u001b[0mpoints\u001b[0m\u001b[0;34m,\u001b[0m \u001b[0mw\u001b[0m\u001b[0;34m,\u001b[0m \u001b[0mrefine\u001b[0m\u001b[0;34m,\u001b[0m \u001b[0mself\u001b[0m\u001b[0;34m.\u001b[0m\u001b[0mnum_pt_mesh\u001b[0m\u001b[0;34m,\u001b[0m \u001b[0mself\u001b[0m\u001b[0;34m.\u001b[0m\u001b[0msym_list\u001b[0m\u001b[0;34m)\u001b[0m\u001b[0;34m\u001b[0m\u001b[0;34m\u001b[0m\u001b[0m\n\u001b[0m",
      "\u001b[0;32m~/DenseFusion/lib/loss.py\u001b[0m in \u001b[0;36mloss_calculation\u001b[0;34m(pred_r, pred_t, pred_c, target, model_points, idx, points, w, refine, num_point_mesh, sym_list)\u001b[0m\n\u001b[1;32m     20\u001b[0m                       \u001b[0;34m(\u001b[0m\u001b[0;36m2.0\u001b[0m\u001b[0;34m*\u001b[0m\u001b[0mpred_r\u001b[0m\u001b[0;34m[\u001b[0m\u001b[0;34m:\u001b[0m\u001b[0;34m,\u001b[0m \u001b[0;34m:\u001b[0m\u001b[0;34m,\u001b[0m \u001b[0;36m0\u001b[0m\u001b[0;34m]\u001b[0m\u001b[0;34m*\u001b[0m\u001b[0mpred_r\u001b[0m\u001b[0;34m[\u001b[0m\u001b[0;34m:\u001b[0m\u001b[0;34m,\u001b[0m \u001b[0;34m:\u001b[0m\u001b[0;34m,\u001b[0m \u001b[0;36m2\u001b[0m\u001b[0;34m]\u001b[0m \u001b[0;34m+\u001b[0m \u001b[0;36m2.0\u001b[0m\u001b[0;34m*\u001b[0m\u001b[0mpred_r\u001b[0m\u001b[0;34m[\u001b[0m\u001b[0;34m:\u001b[0m\u001b[0;34m,\u001b[0m \u001b[0;34m:\u001b[0m\u001b[0;34m,\u001b[0m \u001b[0;36m1\u001b[0m\u001b[0;34m]\u001b[0m\u001b[0;34m*\u001b[0m\u001b[0mpred_r\u001b[0m\u001b[0;34m[\u001b[0m\u001b[0;34m:\u001b[0m\u001b[0;34m,\u001b[0m \u001b[0;34m:\u001b[0m\u001b[0;34m,\u001b[0m \u001b[0;36m3\u001b[0m\u001b[0;34m]\u001b[0m\u001b[0;34m)\u001b[0m\u001b[0;34m.\u001b[0m\u001b[0mview\u001b[0m\u001b[0;34m(\u001b[0m\u001b[0mbs\u001b[0m\u001b[0;34m,\u001b[0m \u001b[0mnum_p\u001b[0m\u001b[0;34m,\u001b[0m \u001b[0;36m1\u001b[0m\u001b[0;34m)\u001b[0m\u001b[0;34m,\u001b[0m\u001b[0;31m \u001b[0m\u001b[0;31m\\\u001b[0m\u001b[0;34m\u001b[0m\u001b[0;34m\u001b[0m\u001b[0m\n\u001b[1;32m     21\u001b[0m                       \u001b[0;34m(\u001b[0m\u001b[0;36m2.0\u001b[0m\u001b[0;34m*\u001b[0m\u001b[0mpred_r\u001b[0m\u001b[0;34m[\u001b[0m\u001b[0;34m:\u001b[0m\u001b[0;34m,\u001b[0m \u001b[0;34m:\u001b[0m\u001b[0;34m,\u001b[0m \u001b[0;36m1\u001b[0m\u001b[0;34m]\u001b[0m\u001b[0;34m*\u001b[0m\u001b[0mpred_r\u001b[0m\u001b[0;34m[\u001b[0m\u001b[0;34m:\u001b[0m\u001b[0;34m,\u001b[0m \u001b[0;34m:\u001b[0m\u001b[0;34m,\u001b[0m \u001b[0;36m2\u001b[0m\u001b[0;34m]\u001b[0m \u001b[0;34m+\u001b[0m \u001b[0;36m2.0\u001b[0m\u001b[0;34m*\u001b[0m\u001b[0mpred_r\u001b[0m\u001b[0;34m[\u001b[0m\u001b[0;34m:\u001b[0m\u001b[0;34m,\u001b[0m \u001b[0;34m:\u001b[0m\u001b[0;34m,\u001b[0m \u001b[0;36m3\u001b[0m\u001b[0;34m]\u001b[0m\u001b[0;34m*\u001b[0m\u001b[0mpred_r\u001b[0m\u001b[0;34m[\u001b[0m\u001b[0;34m:\u001b[0m\u001b[0;34m,\u001b[0m \u001b[0;34m:\u001b[0m\u001b[0;34m,\u001b[0m \u001b[0;36m0\u001b[0m\u001b[0;34m]\u001b[0m\u001b[0;34m)\u001b[0m\u001b[0;34m.\u001b[0m\u001b[0mview\u001b[0m\u001b[0;34m(\u001b[0m\u001b[0mbs\u001b[0m\u001b[0;34m,\u001b[0m \u001b[0mnum_p\u001b[0m\u001b[0;34m,\u001b[0m \u001b[0;36m1\u001b[0m\u001b[0;34m)\u001b[0m\u001b[0;34m,\u001b[0m\u001b[0;31m \u001b[0m\u001b[0;31m\\\u001b[0m\u001b[0;34m\u001b[0m\u001b[0;34m\u001b[0m\u001b[0m\n\u001b[0;32m---> 22\u001b[0;31m                       \u001b[0;34m(\u001b[0m\u001b[0;36m1.0\u001b[0m \u001b[0;34m-\u001b[0m \u001b[0;36m2.0\u001b[0m\u001b[0;34m*\u001b[0m\u001b[0;34m(\u001b[0m\u001b[0mpred_r\u001b[0m\u001b[0;34m[\u001b[0m\u001b[0;34m:\u001b[0m\u001b[0;34m,\u001b[0m \u001b[0;34m:\u001b[0m\u001b[0;34m,\u001b[0m \u001b[0;36m1\u001b[0m\u001b[0;34m]\u001b[0m\u001b[0;34m**\u001b[0m\u001b[0;36m2\u001b[0m \u001b[0;34m+\u001b[0m \u001b[0mpred_r\u001b[0m\u001b[0;34m[\u001b[0m\u001b[0;34m:\u001b[0m\u001b[0;34m,\u001b[0m \u001b[0;34m:\u001b[0m\u001b[0;34m,\u001b[0m \u001b[0;36m3\u001b[0m\u001b[0;34m]\u001b[0m\u001b[0;34m**\u001b[0m\u001b[0;36m2\u001b[0m\u001b[0;34m)\u001b[0m\u001b[0;34m)\u001b[0m\u001b[0;34m.\u001b[0m\u001b[0mview\u001b[0m\u001b[0;34m(\u001b[0m\u001b[0mbs\u001b[0m\u001b[0;34m,\u001b[0m \u001b[0mnum_p\u001b[0m\u001b[0;34m,\u001b[0m \u001b[0;36m1\u001b[0m\u001b[0;34m)\u001b[0m\u001b[0;34m,\u001b[0m\u001b[0;31m \u001b[0m\u001b[0;31m\\\u001b[0m\u001b[0;34m\u001b[0m\u001b[0;34m\u001b[0m\u001b[0m\n\u001b[0m\u001b[1;32m     23\u001b[0m                       \u001b[0;34m(\u001b[0m\u001b[0;34m-\u001b[0m\u001b[0;36m2.0\u001b[0m\u001b[0;34m*\u001b[0m\u001b[0mpred_r\u001b[0m\u001b[0;34m[\u001b[0m\u001b[0;34m:\u001b[0m\u001b[0;34m,\u001b[0m \u001b[0;34m:\u001b[0m\u001b[0;34m,\u001b[0m \u001b[0;36m0\u001b[0m\u001b[0;34m]\u001b[0m\u001b[0;34m*\u001b[0m\u001b[0mpred_r\u001b[0m\u001b[0;34m[\u001b[0m\u001b[0;34m:\u001b[0m\u001b[0;34m,\u001b[0m \u001b[0;34m:\u001b[0m\u001b[0;34m,\u001b[0m \u001b[0;36m1\u001b[0m\u001b[0;34m]\u001b[0m \u001b[0;34m+\u001b[0m \u001b[0;36m2.0\u001b[0m\u001b[0;34m*\u001b[0m\u001b[0mpred_r\u001b[0m\u001b[0;34m[\u001b[0m\u001b[0;34m:\u001b[0m\u001b[0;34m,\u001b[0m \u001b[0;34m:\u001b[0m\u001b[0;34m,\u001b[0m \u001b[0;36m2\u001b[0m\u001b[0;34m]\u001b[0m\u001b[0;34m*\u001b[0m\u001b[0mpred_r\u001b[0m\u001b[0;34m[\u001b[0m\u001b[0;34m:\u001b[0m\u001b[0;34m,\u001b[0m \u001b[0;34m:\u001b[0m\u001b[0;34m,\u001b[0m \u001b[0;36m3\u001b[0m\u001b[0;34m]\u001b[0m\u001b[0;34m)\u001b[0m\u001b[0;34m.\u001b[0m\u001b[0mview\u001b[0m\u001b[0;34m(\u001b[0m\u001b[0mbs\u001b[0m\u001b[0;34m,\u001b[0m \u001b[0mnum_p\u001b[0m\u001b[0;34m,\u001b[0m \u001b[0;36m1\u001b[0m\u001b[0;34m)\u001b[0m\u001b[0;34m,\u001b[0m\u001b[0;31m \u001b[0m\u001b[0;31m\\\u001b[0m\u001b[0;34m\u001b[0m\u001b[0;34m\u001b[0m\u001b[0m\n\u001b[1;32m     24\u001b[0m                       \u001b[0;34m(\u001b[0m\u001b[0;34m-\u001b[0m\u001b[0;36m2.0\u001b[0m\u001b[0;34m*\u001b[0m\u001b[0mpred_r\u001b[0m\u001b[0;34m[\u001b[0m\u001b[0;34m:\u001b[0m\u001b[0;34m,\u001b[0m \u001b[0;34m:\u001b[0m\u001b[0;34m,\u001b[0m \u001b[0;36m0\u001b[0m\u001b[0;34m]\u001b[0m\u001b[0;34m*\u001b[0m\u001b[0mpred_r\u001b[0m\u001b[0;34m[\u001b[0m\u001b[0;34m:\u001b[0m\u001b[0;34m,\u001b[0m \u001b[0;34m:\u001b[0m\u001b[0;34m,\u001b[0m \u001b[0;36m2\u001b[0m\u001b[0;34m]\u001b[0m \u001b[0;34m+\u001b[0m \u001b[0;36m2.0\u001b[0m\u001b[0;34m*\u001b[0m\u001b[0mpred_r\u001b[0m\u001b[0;34m[\u001b[0m\u001b[0;34m:\u001b[0m\u001b[0;34m,\u001b[0m \u001b[0;34m:\u001b[0m\u001b[0;34m,\u001b[0m \u001b[0;36m1\u001b[0m\u001b[0;34m]\u001b[0m\u001b[0;34m*\u001b[0m\u001b[0mpred_r\u001b[0m\u001b[0;34m[\u001b[0m\u001b[0;34m:\u001b[0m\u001b[0;34m,\u001b[0m \u001b[0;34m:\u001b[0m\u001b[0;34m,\u001b[0m \u001b[0;36m3\u001b[0m\u001b[0;34m]\u001b[0m\u001b[0;34m)\u001b[0m\u001b[0;34m.\u001b[0m\u001b[0mview\u001b[0m\u001b[0;34m(\u001b[0m\u001b[0mbs\u001b[0m\u001b[0;34m,\u001b[0m \u001b[0mnum_p\u001b[0m\u001b[0;34m,\u001b[0m \u001b[0;36m1\u001b[0m\u001b[0;34m)\u001b[0m\u001b[0;34m,\u001b[0m\u001b[0;31m \u001b[0m\u001b[0;31m\\\u001b[0m\u001b[0;34m\u001b[0m\u001b[0;34m\u001b[0m\u001b[0m\n",
      "\u001b[0;31mKeyboardInterrupt\u001b[0m: "
     ]
    }
   ],
   "source": [
    "best_test = np.Inf\n",
    "print_every = 50\n",
    "\n",
    "if start_epoch == 1:\n",
    "    for log in os.listdir(log_dir):\n",
    "        if '.ipyn' not in log:\n",
    "            os.remove(os.path.join(log_dir, log))\n",
    "st_time = time.time()\n",
    "\n",
    "for epoch in range(start_epoch, nepoch):\n",
    "    logger = setup_logger('epoch%d' % epoch, os.path.join(log_dir, 'epoch_%d_log.txt' % epoch))\n",
    "    mess = 'Train time {0}'.format(time.strftime(\"%Hh %Mm %Ss\", time.gmtime(time.time() - st_time)) + ', ' + 'Training started')\n",
    "    print(mess)\n",
    "    logger.info(mess)\n",
    "    \n",
    "    train_count = 0\n",
    "    train_dis_avg = 0.0\n",
    "    \n",
    "    estimator.train()\n",
    "    optimizer.zero_grad()\n",
    "\n",
    "    for rep in range(repeat_epoch):\n",
    "        for i, data in enumerate(dataloader, 0):\n",
    "            points, choose, img, target, model_points, idx = data            \n",
    "            points, choose, img, target, model_points, idx = Variable(points).cuda(), \\\n",
    "                                                             Variable(choose).cuda(), \\\n",
    "                                                             Variable(img).cuda(), \\\n",
    "                                                             Variable(target).cuda(), \\\n",
    "                                                             Variable(model_points).cuda(), \\\n",
    "                                                             Variable(idx).cuda()\n",
    "            pred_r, pred_t, pred_c, emb = estimator(img, points, choose, idx)\n",
    "            loss, dis, new_points, new_target = criterion(pred_r, \n",
    "                                                          pred_t, \n",
    "                                                          pred_c, \n",
    "                                                          target, \n",
    "                                                          model_points, \n",
    "                                                          idx, \n",
    "                                                          points, \n",
    "                                                          w, refine_start)\n",
    "            loss.backward()\n",
    "            \n",
    "            train_dis_avg += dis.item()\n",
    "            train_count += 1\n",
    "            if train_count % batch_size == 0:\n",
    "                \n",
    "                mess = 'Train time {0} Epoch {1} Batch {2} Frame {3} Avg_dis:{4}'.format(\n",
    "                        time.strftime(\"%Hh %Mm %Ss\", time.gmtime(time.time() - st_time)), \n",
    "                        epoch, int(train_count / batch_size), \n",
    "                        train_count, \n",
    "                        train_dis_avg / batch_size)\n",
    "                logger.info(mess)\n",
    "                \n",
    "                optimizer.step()\n",
    "                optimizer.zero_grad()\n",
    "                train_dis_avg = 0\n",
    "                \n",
    "                \n",
    "                if train_count % print_every == 0:\n",
    "                    print(mess)\n",
    "            \n",
    "            if train_count != 0 and train_count % 500 == 0:                    \n",
    "                torch.save(estimator.state_dict(), '{0}/pose_model_current.pth'.format(outf))\n",
    "            \n",
    "    print('>>>>>>>>----------epoch {0} train finish---------<<<<<<<<'.format(epoch))\n",
    "    \n",
    "    test_dis = 0.0\n",
    "    test_count = 0\n",
    "    estimator.eval()\n",
    "    \n",
    "    for j, data in enumerate(testdataloader, 0):\n",
    "        points, choose, img, target, model_points, idx = data\n",
    "        points, choose, img, target, model_points, idx = Variable(points).cuda(), \\\n",
    "                                                         Variable(choose).cuda(), \\\n",
    "                                                         Variable(img).cuda(), \\\n",
    "                                                         Variable(target).cuda(), \\\n",
    "                                                         Variable(model_points).cuda(), \\\n",
    "                                                         Variable(idx).cuda()\n",
    "        pred_r, pred_t, pred_c, emb = estimator(img, points, choose, idx)\n",
    "        _, dis, new_points, new_target = criterion(pred_r, pred_t, pred_c, \n",
    "                                                   target, \n",
    "                                                   model_points, idx, points, \n",
    "                                                   w, refine_start)\n",
    "        test_dis += dis.item()\n",
    "        mess = 'Test time {0} Test Frame No.{1} dis:{2}'.format(time.strftime(\"%Hh %Mm %Ss\", time.gmtime(time.time() - st_time)), test_count, dis)\n",
    "        logger.info(mess)\n",
    "        \n",
    "        test_count += 1\n",
    "    test_dis = test_dis / test_count\n",
    "    mess = 'Test time {0} Epoch {1} TEST FINISH Avg dis: {2}'.format(time.strftime(\"%Hh %Mm %Ss\", time.gmtime(time.time() - st_time)), epoch, test_dis)\n",
    "    print(mess)\n",
    "    logger.info(mess)\n",
    "    \n",
    "    if test_dis <= best_test:\n",
    "        best_test = test_dis\n",
    "        torch.save(estimator.state_dict(), '{0}/pose_model_{1}_{2}.pth'.format(outf, epoch, test_dis))\n",
    "        print(epoch, '>>>>>>>>----------BEST TEST MODEL SAVED---------<<<<<<<<')\n",
    "        \n",
    "    if best_test < decay_margin and not decay_start:\n",
    "        decay_start = True\n",
    "        lr *= lr_rate\n",
    "        w *= w_rate\n",
    "        optimizer = optim.Adam(estimator.parameters(), lr=lr)"
   ]
  },
  {
   "cell_type": "code",
   "execution_count": null,
   "metadata": {},
   "outputs": [],
   "source": [
    "t = next(iter(dataloader))"
   ]
  },
  {
   "cell_type": "code",
   "execution_count": null,
   "metadata": {},
   "outputs": [],
   "source": [
    "points, choose, img, target, model_points, idx = t"
   ]
  },
  {
   "cell_type": "code",
   "execution_count": null,
   "metadata": {},
   "outputs": [],
   "source": [
    "points.shape"
   ]
  },
  {
   "cell_type": "code",
   "execution_count": null,
   "metadata": {},
   "outputs": [],
   "source": [
    "target.shape"
   ]
  },
  {
   "cell_type": "code",
   "execution_count": null,
   "metadata": {},
   "outputs": [],
   "source": [
    "choose.shape"
   ]
  },
  {
   "cell_type": "code",
   "execution_count": null,
   "metadata": {},
   "outputs": [],
   "source": [
    "model_points.shape"
   ]
  },
  {
   "cell_type": "code",
   "execution_count": null,
   "metadata": {},
   "outputs": [],
   "source": []
  }
 ],
 "metadata": {
  "kernelspec": {
   "display_name": "recvis",
   "language": "python",
   "name": "recvis"
  },
  "language_info": {
   "codemirror_mode": {
    "name": "ipython",
    "version": 3
   },
   "file_extension": ".py",
   "mimetype": "text/x-python",
   "name": "python",
   "nbconvert_exporter": "python",
   "pygments_lexer": "ipython3",
   "version": "3.6.9"
  }
 },
 "nbformat": 4,
 "nbformat_minor": 4
}
